{
 "cells": [
  {
   "cell_type": "code",
   "execution_count": 1,
   "metadata": {},
   "outputs": [
    {
     "name": "stderr",
     "output_type": "stream",
     "text": [
      "Using TensorFlow backend.\n"
     ]
    }
   ],
   "source": [
    "#configure\n",
    "# sets matplotlib to inline and displays graphs below the corressponding cell.\n",
    "# data visualisation and manipulation\n",
    "import pandas as pd\n",
    "import matplotlib.pyplot as plt\n",
    "from matplotlib import style\n",
    "import seaborn as sns\n",
    "\n",
    "import keras\n",
    "from keras.models import Sequential\n",
    "from keras.callbacks import ModelCheckpoint, LearningRateScheduler, TensorBoard\n",
    "from keras.engine.topology import Network\n",
    "from keras.layers import *\n",
    "from keras.models import Model\n",
    "from keras.preprocessing import image\n",
    "\n",
    "import matplotlib.pyplot as plt\n",
    "import scipy.misc\n",
    "\n",
    "%matplotlib inline  \n",
    "style.use('fivethirtyeight')\n",
    "sns.set(style='whitegrid',color_codes=True)\n",
    "\n",
    "#model selection\n",
    "from sklearn.model_selection import train_test_split\n",
    "from sklearn.model_selection import KFold\n",
    "from sklearn.metrics import accuracy_score,precision_score,recall_score,confusion_matrix,roc_curve,roc_auc_score\n",
    "from sklearn.model_selection import GridSearchCV\n",
    "from sklearn.preprocessing import LabelEncoder\n",
    "\n",
    "#preprocess.\n",
    "from keras.preprocessing.image import ImageDataGenerator\n",
    "\n",
    "#dl libraraies\n",
    "from keras import backend as K\n",
    "from keras.models import Sequential\n",
    "from keras.layers import Dense\n",
    "from keras.optimizers import Adam,SGD,Adagrad,Adadelta,RMSprop\n",
    "from keras.utils import to_categorical\n",
    "\n",
    "# specifically for cnn\n",
    "from keras.layers import Dropout, Flatten,Activation\n",
    "from keras.layers import Conv2D, MaxPooling2D, BatchNormalization\n",
    " \n",
    "import tensorflow as tf\n",
    "import random as rn\n",
    "\n",
    "# specifically for manipulating zipped images and getting numpy arrays of pixel values of images.\n",
    "import cv2                  \n",
    "import numpy as np  \n",
    "from tqdm import tqdm\n",
    "import os                   \n",
    "from random import shuffle  \n",
    "from zipfile import ZipFile\n",
    "from PIL import Image"
   ]
  },
  {
   "cell_type": "code",
   "execution_count": 2,
   "metadata": {},
   "outputs": [],
   "source": [
    "import numpy as np\n",
    "kernel = np.array([[-1/12, 2/12, -2/12, 2/12, -1/12], \n",
    "                   [2/12, -6/12, 8/12, -6/12, -2/12], \n",
    "                   [-2/12, 8/12, -12/12, 8/12, -2/12],\n",
    "                   [2/12, -6/12, 8/12, -6/12, -2/12], \n",
    "                   [-1/12, 2/12, -2/12, 2/12, -1/12]])"
   ]
  },
  {
   "cell_type": "code",
   "execution_count": 3,
   "metadata": {},
   "outputs": [
    {
     "data": {
      "text/plain": [
       "array([[-0.08333333,  0.16666667, -0.16666667,  0.16666667, -0.08333333],\n",
       "       [ 0.16666667, -0.5       ,  0.66666667, -0.5       , -0.16666667],\n",
       "       [-0.16666667,  0.66666667, -1.        ,  0.66666667, -0.16666667],\n",
       "       [ 0.16666667, -0.5       ,  0.66666667, -0.5       , -0.16666667],\n",
       "       [-0.08333333,  0.16666667, -0.16666667,  0.16666667, -0.08333333]])"
      ]
     },
     "execution_count": 3,
     "metadata": {},
     "output_type": "execute_result"
    }
   ],
   "source": [
    "kernel"
   ]
  },
  {
   "cell_type": "code",
   "execution_count": 4,
   "metadata": {},
   "outputs": [],
   "source": [
    "def convolve2D(image, kernel, padding=0, strides=1):\n",
    "    # Cross Correlation\n",
    "    kernel = np.flipud(np.fliplr(kernel))\n",
    "\n",
    "    # Gather Shapes of Kernel + Image + Padding\n",
    "    xKernShape = kernel.shape[0]\n",
    "    yKernShape = kernel.shape[1]\n",
    "    xImgShape = image.shape[0]\n",
    "    yImgShape = image.shape[1]\n",
    "\n",
    "    # Shape of Output Convolution\n",
    "    xOutput = int(((xImgShape - xKernShape + 2 * padding) / strides) + 1)\n",
    "    yOutput = int(((yImgShape - yKernShape + 2 * padding) / strides) + 1)\n",
    "    output = np.zeros((xOutput, yOutput))\n",
    "\n",
    "    # Apply Equal Padding to All Sides\n",
    "    if padding != 0:\n",
    "        imagePadded = np.zeros((image.shape[0] + padding*2, image.shape[1] + padding*2))\n",
    "        imagePadded[int(padding):int(-1 * padding), int(padding):int(-1 * padding)] = image\n",
    "        print(imagePadded)\n",
    "    else:\n",
    "        imagePadded = image\n",
    "\n",
    "    # Iterate through image\n",
    "    for y in range(image.shape[1]):\n",
    "        # Exit Convolution\n",
    "        if y > image.shape[1] - yKernShape:\n",
    "            break\n",
    "        # Only Convolve if y has gone down by the specified Strides\n",
    "        if y % strides == 0:\n",
    "            for x in range(image.shape[0]):\n",
    "                # Go to next row once kernel is out of bounds\n",
    "                if x > image.shape[0] - xKernShape:\n",
    "                    break\n",
    "                try:\n",
    "                    # Only Convolve if x has moved by the specified Strides\n",
    "                    if x % strides == 0:\n",
    "                        output[x, y] = (kernel * imagePadded[x: x + xKernShape, y: y + yKernShape]).sum()\n",
    "                except:\n",
    "                    break\n",
    "\n",
    "    return output"
   ]
  },
  {
   "cell_type": "code",
   "execution_count": 53,
   "metadata": {},
   "outputs": [],
   "source": [
    "train_a_dir='F:/Mine/MTECH DISSERTATION DOCUMENTS/DATASET COLLECTIONS/Dataset used in project/testing/train/cover'\n",
    "train_b_dir='F:/Mine/MTECH DISSERTATION DOCUMENTS/DATASET COLLECTIONS/Dataset used in project/testing/train/stego'\n",
    "#test_a_dir='F:/Mine/MTECH DISSERTATION DOCUMENTS/DATASET COLLECTIONS/Dataset used in project/testing/test/cover'\n",
    "test_b_dir='F:/Mine/MTECH DISSERTATION DOCUMENTS/DATASET COLLECTIONS/Dataset used in project/testing/test/stego'\n",
    "valid_a_dir='F:/Mine/MTECH DISSERTATION DOCUMENTS/DATASET COLLECTIONS/Dataset used in project/testing/valid/cover'\n",
    "valid_b_dir='F:/Mine/MTECH DISSERTATION DOCUMENTS/DATASET COLLECTIONS/Dataset used in project/testing/valid/stego'"
   ]
  },
  {
   "cell_type": "code",
   "execution_count": 54,
   "metadata": {},
   "outputs": [],
   "source": [
    "def assign_label(img,img_class):\n",
    "    return img_class"
   ]
  },
  {
   "cell_type": "code",
   "execution_count": 55,
   "metadata": {},
   "outputs": [],
   "source": [
    "def rgb2gray(rgb):\n",
    "    return np.dot(rgb[...,:3], [0.299, 0.587, 0.114])"
   ]
  },
  {
   "cell_type": "code",
   "execution_count": 56,
   "metadata": {},
   "outputs": [],
   "source": [
    "X = []\n",
    "Z = []\n",
    "X1 = []\n",
    "Z1 = []\n",
    "X2 = []\n",
    "Z2 = []\n",
    "def make_train_data(img_class,DIR):\n",
    "    for img in tqdm(os.listdir(DIR)):\n",
    "        label=assign_label(img,img_class)\n",
    "        path = os.path.join(DIR,img)\n",
    "        img = cv2.imread(path,cv2.IMREAD_COLOR)\n",
    "        image = rgb2gray(img)\n",
    "        img = convolve2D(image, kernel, padding=0) \n",
    "        #=img = cv2.resize(img, (IMG_SIZE,IMG_SIZE))\n",
    "        \n",
    "        X.append(np.array(img))\n",
    "        Z.append(str(label))\n",
    "def make_test_data(img_class,DIR):\n",
    "    for img in tqdm(os.listdir(DIR)):\n",
    "        label=assign_label(img,img_class)\n",
    "        path = os.path.join(DIR,img)\n",
    "        img = cv2.imread(path,cv2.IMREAD_COLOR)\n",
    "        image = rgb2gray(img)\n",
    "        img = convolve2D(image, kernel, padding=0)\n",
    "        #img = cv2.resize(img, (IMG_SIZE,IMG_SIZE))\n",
    "        \n",
    "        X1.append(np.array(img))\n",
    "        Z1.append(str(label))\n",
    "def make_valid_data(img_class,DIR):\n",
    "    for img in tqdm(os.listdir(DIR)):\n",
    "        label=assign_label(img,img_class)\n",
    "        path = os.path.join(DIR,img)\n",
    "        img = cv2.imread(path,cv2.IMREAD_COLOR)\n",
    "        image = rgb2gray(img)\n",
    "        img = convolve2D(image, kernel, padding=0)\n",
    "        #img = cv2.resize(img, (IMG_SIZE,IMG_SIZE))\n",
    "        \n",
    "        X2.append(np.array(img))\n",
    "        Z2.append(str(label))"
   ]
  },
  {
   "cell_type": "code",
   "execution_count": 57,
   "metadata": {
    "scrolled": true
   },
   "outputs": [
    {
     "name": "stderr",
     "output_type": "stream",
     "text": [
      "100%|██████████| 150/150 [00:07<00:00, 21.70it/s]\n",
      "100%|██████████| 150/150 [00:07<00:00, 20.18it/s]\n",
      "100%|██████████| 50/50 [00:02<00:00, 18.23it/s]\n",
      "100%|██████████| 25/25 [00:01<00:00, 20.02it/s]\n",
      "100%|██████████| 25/25 [00:01<00:00, 20.21it/s]\n"
     ]
    }
   ],
   "source": [
    "make_train_data('cover',train_a_dir)\n",
    "make_train_data('stego',train_b_dir)\n",
    "#make_test_data('cover',test_a_dir)\n",
    "make_test_data('stego',test_b_dir)\n",
    "make_valid_data('cover',valid_a_dir)\n",
    "make_valid_data('stego',valid_b_dir)"
   ]
  },
  {
   "cell_type": "code",
   "execution_count": 58,
   "metadata": {},
   "outputs": [],
   "source": [
    "from sklearn.preprocessing import LabelEncoder\n",
    "from keras.utils import to_categorical\n",
    "le=LabelEncoder()\n",
    "Y=le.fit_transform(Z)\n",
    "train_label = to_categorical(Y,2)\n",
    "X=np.array(X)\n",
    "train_img = X\n",
    "Y1=le.fit_transform(Z1)\n",
    "test_label = to_categorical(Y1,2)\n",
    "X1=np.array(X1)\n",
    "test_img = X1\n",
    "Y2=le.fit_transform(Z2)\n",
    "valid_label = to_categorical(Y2,2)\n",
    "X2=np.array(X2)\n",
    "valid_img = X2"
   ]
  },
  {
   "cell_type": "code",
   "execution_count": 59,
   "metadata": {},
   "outputs": [
    {
     "data": {
      "text/plain": [
       "(300, 60, 60)"
      ]
     },
     "execution_count": 59,
     "metadata": {},
     "output_type": "execute_result"
    }
   ],
   "source": [
    "train_img.shape"
   ]
  },
  {
   "cell_type": "code",
   "execution_count": 60,
   "metadata": {},
   "outputs": [],
   "source": [
    "train_img = train_img.reshape(train_img.shape[0],train_img.shape[1],train_img.shape[2],1)"
   ]
  },
  {
   "cell_type": "code",
   "execution_count": 61,
   "metadata": {},
   "outputs": [
    {
     "data": {
      "text/plain": [
       "(300, 60, 60, 1)"
      ]
     },
     "execution_count": 61,
     "metadata": {},
     "output_type": "execute_result"
    }
   ],
   "source": [
    "train_img.shape"
   ]
  },
  {
   "cell_type": "code",
   "execution_count": 62,
   "metadata": {},
   "outputs": [],
   "source": [
    "test_img.shape = (test_img.shape[0],test_img.shape[1],test_img.shape[2],1)"
   ]
  },
  {
   "cell_type": "code",
   "execution_count": 63,
   "metadata": {},
   "outputs": [
    {
     "data": {
      "text/plain": [
       "(50, 60, 60, 1)"
      ]
     },
     "execution_count": 63,
     "metadata": {},
     "output_type": "execute_result"
    }
   ],
   "source": [
    "test_img.shape"
   ]
  },
  {
   "cell_type": "code",
   "execution_count": 64,
   "metadata": {},
   "outputs": [
    {
     "data": {
      "text/plain": [
       "(50, 60, 60)"
      ]
     },
     "execution_count": 64,
     "metadata": {},
     "output_type": "execute_result"
    }
   ],
   "source": [
    "valid_img.shape"
   ]
  },
  {
   "cell_type": "code",
   "execution_count": 65,
   "metadata": {},
   "outputs": [],
   "source": [
    "valid_img.shape = (valid_img.shape[0],valid_img.shape[1],valid_img.shape[2],1)"
   ]
  },
  {
   "cell_type": "code",
   "execution_count": 66,
   "metadata": {},
   "outputs": [
    {
     "data": {
      "text/plain": [
       "(50, 60, 60, 1)"
      ]
     },
     "execution_count": 66,
     "metadata": {},
     "output_type": "execute_result"
    }
   ],
   "source": [
    "valid_img.shape"
   ]
  },
  {
   "cell_type": "code",
   "execution_count": 19,
   "metadata": {},
   "outputs": [],
   "source": [
    "def gaussian(x):\n",
    "    mean = tf.math.reduce_mean(x)\n",
    "    std = tf.math.reduce_std(x)\n",
    "    return tf.exp(-((x-mean)**2)/(std)**2) "
   ]
  },
  {
   "cell_type": "code",
   "execution_count": 20,
   "metadata": {},
   "outputs": [],
   "source": [
    "model = Sequential()"
   ]
  },
  {
   "cell_type": "code",
   "execution_count": 21,
   "metadata": {},
   "outputs": [],
   "source": [
    "#Second layer - Convolution and pooling\n",
    "model.add(Conv2D(filters = 16, kernel_size = (5,5),strides=(1,1),padding = 'Valid',activation =gaussian, input_shape = (60,60,1)))\n",
    "model.add(AveragePooling2D(pool_size=(3,3),strides=(2,2),padding = 'Same'))"
   ]
  },
  {
   "cell_type": "code",
   "execution_count": 22,
   "metadata": {},
   "outputs": [],
   "source": [
    "#Third layer - Convolution and pooling\n",
    "model.add(Conv2D(filters = 16, kernel_size = (3,3),strides=(1,1),padding = 'Valid',activation =gaussian))\n",
    "model.add(AveragePooling2D(pool_size=(3,3),strides=(2,2),padding = 'Same'))"
   ]
  },
  {
   "cell_type": "code",
   "execution_count": 23,
   "metadata": {},
   "outputs": [],
   "source": [
    "#Fourth layer - Convolution and pooling\n",
    "model.add(Conv2D(filters = 16, kernel_size = (3,3),strides=(1,1),padding = 'Valid',activation =gaussian))\n",
    "model.add(AveragePooling2D(pool_size=(3,3),strides=(2,2),padding = 'Same'))"
   ]
  },
  {
   "cell_type": "code",
   "execution_count": 24,
   "metadata": {},
   "outputs": [],
   "source": [
    "#Fifth layer - Convolution and pooling\n",
    "model.add(Conv2D(filters = 16, kernel_size = (5,5),strides=(1,1),padding = 'Valid',activation =gaussian))\n",
    "model.add(AveragePooling2D(pool_size=(3,3),strides=(2,2),padding = 'Same'))"
   ]
  },
  {
   "cell_type": "code",
   "execution_count": 25,
   "metadata": {},
   "outputs": [],
   "source": [
    "model.add(Flatten())\n",
    "model.add(Dense(32))\n",
    "model.add(Activation('relu'))\n",
    "model.add(Dense(32))\n",
    "model.add(Activation('relu'))\n",
    "model.add(Dense(2, activation = \"softmax\"))"
   ]
  },
  {
   "cell_type": "code",
   "execution_count": 26,
   "metadata": {},
   "outputs": [
    {
     "name": "stdout",
     "output_type": "stream",
     "text": [
      "Model: \"sequential_1\"\n",
      "_________________________________________________________________\n",
      "Layer (type)                 Output Shape              Param #   \n",
      "=================================================================\n",
      "conv2d_1 (Conv2D)            (None, 56, 56, 16)        416       \n",
      "_________________________________________________________________\n",
      "average_pooling2d_1 (Average (None, 28, 28, 16)        0         \n",
      "_________________________________________________________________\n",
      "conv2d_2 (Conv2D)            (None, 26, 26, 16)        2320      \n",
      "_________________________________________________________________\n",
      "average_pooling2d_2 (Average (None, 13, 13, 16)        0         \n",
      "_________________________________________________________________\n",
      "conv2d_3 (Conv2D)            (None, 11, 11, 16)        2320      \n",
      "_________________________________________________________________\n",
      "average_pooling2d_3 (Average (None, 6, 6, 16)          0         \n",
      "_________________________________________________________________\n",
      "conv2d_4 (Conv2D)            (None, 2, 2, 16)          6416      \n",
      "_________________________________________________________________\n",
      "average_pooling2d_4 (Average (None, 1, 1, 16)          0         \n",
      "_________________________________________________________________\n",
      "flatten_1 (Flatten)          (None, 16)                0         \n",
      "_________________________________________________________________\n",
      "dense_1 (Dense)              (None, 32)                544       \n",
      "_________________________________________________________________\n",
      "activation_1 (Activation)    (None, 32)                0         \n",
      "_________________________________________________________________\n",
      "dense_2 (Dense)              (None, 32)                1056      \n",
      "_________________________________________________________________\n",
      "activation_2 (Activation)    (None, 32)                0         \n",
      "_________________________________________________________________\n",
      "dense_3 (Dense)              (None, 2)                 66        \n",
      "=================================================================\n",
      "Total params: 13,138\n",
      "Trainable params: 13,138\n",
      "Non-trainable params: 0\n",
      "_________________________________________________________________\n"
     ]
    }
   ],
   "source": [
    "model.summary()"
   ]
  },
  {
   "cell_type": "code",
   "execution_count": 27,
   "metadata": {},
   "outputs": [
    {
     "data": {
      "text/plain": [
       "(300, 60, 60, 1)"
      ]
     },
     "execution_count": 27,
     "metadata": {},
     "output_type": "execute_result"
    }
   ],
   "source": [
    "train_img.shape"
   ]
  },
  {
   "cell_type": "code",
   "execution_count": 28,
   "metadata": {},
   "outputs": [],
   "source": [
    "batch_size=64\n",
    "epochs=30\n",
    "\n",
    "from keras.callbacks import ReduceLROnPlateau\n",
    "red_lr= ReduceLROnPlateau(monitor='val_acc',patience=3,verbose=1,factor=0.1)"
   ]
  },
  {
   "cell_type": "code",
   "execution_count": 29,
   "metadata": {},
   "outputs": [],
   "source": [
    "#Data Augmentation to prevent Overfitting\n",
    "datagen = ImageDataGenerator(\n",
    "        featurewise_center=False,  # set input mean to 0 over the dataset\n",
    "        samplewise_center=False,  # set each sample mean to 0\n",
    "        featurewise_std_normalization=False,  # divide inputs by std of the dataset\n",
    "        samplewise_std_normalization=False,  # divide each input by its std\n",
    "        zca_whitening=False,  # apply ZCA whitening\n",
    "        rotation_range=10,  # randomly rotate images in the range (degrees, 0 to 180)\n",
    "        zoom_range = 0.1, # Randomly zoom image \n",
    "        width_shift_range=0.2,  # randomly shift images horizontally (fraction of total width)\n",
    "        height_shift_range=0.2,  # randomly shift images vertically (fraction of total height)\n",
    "        horizontal_flip=True,  # randomly flip images\n",
    "        vertical_flip=False)  # randomly flip images\n",
    "\n",
    "\n",
    "datagen.fit(train_img)"
   ]
  },
  {
   "cell_type": "code",
   "execution_count": 30,
   "metadata": {},
   "outputs": [],
   "source": [
    "#Compiling the Keras Model & Summary\n",
    "model.compile(optimizer=Adam(lr=0.001),loss='categorical_crossentropy',metrics=['accuracy'])"
   ]
  },
  {
   "cell_type": "code",
   "execution_count": 31,
   "metadata": {},
   "outputs": [
    {
     "name": "stdout",
     "output_type": "stream",
     "text": [
      "Epoch 1/30\n",
      "4/4 [==============================] - ETA: 9s - loss: 0.7034 - accuracy: 0.54 - ETA: 3s - loss: 0.6934 - accuracy: 0.54 - ETA: 1s - loss: 0.6998 - accuracy: 0.50 - 5s 1s/step - loss: 0.6959 - accuracy: 0.5127 - val_loss: 0.6787 - val_accuracy: 0.6200\n",
      "Epoch 2/30\n",
      "4/4 [==============================] - ETA: 0s - loss: 0.6861 - accuracy: 0.57 - ETA: 0s - loss: 0.6900 - accuracy: 0.55 - ETA: 0s - loss: 0.6893 - accuracy: 0.54 - 1s 319ms/step - loss: 0.6862 - accuracy: 0.5636 - val_loss: 0.6800 - val_accuracy: 0.5000\n",
      "Epoch 3/30\n",
      "4/4 [==============================] - ETA: 0s - loss: 0.6607 - accuracy: 0.60 - ETA: 0s - loss: 0.7038 - accuracy: 0.46 - ETA: 0s - loss: 0.7035 - accuracy: 0.47 - 1s 314ms/step - loss: 0.6970 - accuracy: 0.4958 - val_loss: 0.6789 - val_accuracy: 0.5800\n",
      "Epoch 4/30\n",
      "4/4 [==============================] - ETA: 0s - loss: 0.6836 - accuracy: 0.56 - ETA: 0s - loss: 0.6771 - accuracy: 0.53 - ETA: 0s - loss: 0.6915 - accuracy: 0.48 - 1s 346ms/step - loss: 0.6890 - accuracy: 0.5156 - val_loss: 0.6736 - val_accuracy: 0.6400\n",
      "Epoch 5/30\n",
      "4/4 [==============================] - ETA: 0s - loss: 0.6811 - accuracy: 0.59 - ETA: 0s - loss: 0.6814 - accuracy: 0.60 - ETA: 0s - loss: 0.6821 - accuracy: 0.58 - 1s 284ms/step - loss: 0.6882 - accuracy: 0.5508 - val_loss: 0.6834 - val_accuracy: 0.5000\n",
      "Epoch 6/30\n",
      "4/4 [==============================] - ETA: 0s - loss: 0.6829 - accuracy: 0.57 - ETA: 0s - loss: 0.6845 - accuracy: 0.57 - ETA: 0s - loss: 0.6849 - accuracy: 0.55 - 1s 299ms/step - loss: 0.6797 - accuracy: 0.5805 - val_loss: 0.6661 - val_accuracy: 0.6800\n",
      "Epoch 7/30\n",
      "4/4 [==============================] - ETA: 0s - loss: 0.6653 - accuracy: 0.68 - ETA: 0s - loss: 0.6711 - accuracy: 0.67 - ETA: 0s - loss: 0.6696 - accuracy: 0.65 - 1s 316ms/step - loss: 0.6733 - accuracy: 0.6144 - val_loss: 0.6626 - val_accuracy: 0.6400\n",
      "Epoch 8/30\n",
      "4/4 [==============================] - ETA: 1s - loss: 0.6730 - accuracy: 0.59 - ETA: 0s - loss: 0.6707 - accuracy: 0.63 - ETA: 0s - loss: 0.6703 - accuracy: 0.62 - 1s 318ms/step - loss: 0.6665 - accuracy: 0.6314 - val_loss: 0.6544 - val_accuracy: 0.7000\n",
      "Epoch 9/30\n",
      "4/4 [==============================] - ETA: 1s - loss: 0.6574 - accuracy: 0.60 - ETA: 0s - loss: 0.6683 - accuracy: 0.57 - ETA: 0s - loss: 0.6643 - accuracy: 0.60 - 1s 359ms/step - loss: 0.6653 - accuracy: 0.5977 - val_loss: 0.6393 - val_accuracy: 0.7000\n",
      "Epoch 10/30\n",
      "4/4 [==============================] - ETA: 0s - loss: 0.6478 - accuracy: 0.67 - ETA: 0s - loss: 0.6529 - accuracy: 0.66 - ETA: 0s - loss: 0.6661 - accuracy: 0.65 - 1s 311ms/step - loss: 0.6555 - accuracy: 0.6780 - val_loss: 0.6292 - val_accuracy: 0.7000\n",
      "Epoch 11/30\n",
      "4/4 [==============================] - ETA: 0s - loss: 0.6191 - accuracy: 0.72 - ETA: 0s - loss: 0.6481 - accuracy: 0.63 - ETA: 0s - loss: 0.6585 - accuracy: 0.61 - 1s 329ms/step - loss: 0.6563 - accuracy: 0.6102 - val_loss: 0.6231 - val_accuracy: 0.7400\n",
      "Epoch 12/30\n",
      "4/4 [==============================] - ETA: 1s - loss: 0.6175 - accuracy: 0.70 - ETA: 0s - loss: 0.6355 - accuracy: 0.66 - ETA: 0s - loss: 0.6334 - accuracy: 0.67 - 1s 359ms/step - loss: 0.6436 - accuracy: 0.6602 - val_loss: 0.6285 - val_accuracy: 0.6800\n",
      "Epoch 13/30\n",
      "4/4 [==============================] - ETA: 0s - loss: 0.6671 - accuracy: 0.59 - ETA: 0s - loss: 0.6464 - accuracy: 0.62 - ETA: 0s - loss: 0.6478 - accuracy: 0.62 - 1s 289ms/step - loss: 0.6376 - accuracy: 0.6574 - val_loss: 0.5977 - val_accuracy: 0.7400\n",
      "Epoch 14/30\n",
      "4/4 [==============================] - ETA: 0s - loss: 0.6168 - accuracy: 0.70 - ETA: 0s - loss: 0.6185 - accuracy: 0.70 - ETA: 0s - loss: 0.6337 - accuracy: 0.67 - 1s 365ms/step - loss: 0.6396 - accuracy: 0.6523 - val_loss: 0.5877 - val_accuracy: 0.7400\n",
      "Epoch 15/30\n",
      "4/4 [==============================] - ETA: 0s - loss: 0.6343 - accuracy: 0.68 - ETA: 0s - loss: 0.6501 - accuracy: 0.63 - ETA: 0s - loss: 0.6321 - accuracy: 0.66 - 1s 327ms/step - loss: 0.6356 - accuracy: 0.6525 - val_loss: 0.5917 - val_accuracy: 0.7200\n",
      "Epoch 16/30\n",
      "4/4 [==============================] - ETA: 0s - loss: 0.6811 - accuracy: 0.53 - ETA: 0s - loss: 0.6351 - accuracy: 0.64 - ETA: 0s - loss: 0.6188 - accuracy: 0.66 - 1s 305ms/step - loss: 0.6249 - accuracy: 0.6568 - val_loss: 0.5955 - val_accuracy: 0.7600\n",
      "Epoch 17/30\n",
      "4/4 [==============================] - ETA: 0s - loss: 0.6196 - accuracy: 0.64 - ETA: 0s - loss: 0.6155 - accuracy: 0.65 - ETA: 0s - loss: 0.6137 - accuracy: 0.65 - 1s 292ms/step - loss: 0.6141 - accuracy: 0.6483 - val_loss: 0.5821 - val_accuracy: 0.7000\n",
      "Epoch 18/30\n",
      "4/4 [==============================] - ETA: 0s - loss: 0.5454 - accuracy: 0.76 - ETA: 0s - loss: 0.5862 - accuracy: 0.70 - ETA: 0s - loss: 0.5892 - accuracy: 0.70 - 1s 321ms/step - loss: 0.5907 - accuracy: 0.7109 - val_loss: 0.5990 - val_accuracy: 0.7000\n",
      "Epoch 19/30\n",
      "4/4 [==============================] - ETA: 0s - loss: 0.6527 - accuracy: 0.60 - ETA: 0s - loss: 0.6400 - accuracy: 0.62 - ETA: 0s - loss: 0.6130 - accuracy: 0.64 - 1s 321ms/step - loss: 0.6031 - accuracy: 0.6737 - val_loss: 0.5738 - val_accuracy: 0.7400\n",
      "Epoch 20/30\n",
      "4/4 [==============================] - ETA: 0s - loss: 0.5680 - accuracy: 0.75 - ETA: 0s - loss: 0.6425 - accuracy: 0.66 - ETA: 0s - loss: 0.6046 - accuracy: 0.69 - 1s 311ms/step - loss: 0.5973 - accuracy: 0.6907 - val_loss: 0.5676 - val_accuracy: 0.7800\n",
      "Epoch 21/30\n",
      "4/4 [==============================] - ETA: 0s - loss: 0.6008 - accuracy: 0.60 - ETA: 0s - loss: 0.5851 - accuracy: 0.66 - ETA: 0s - loss: 0.5553 - accuracy: 0.70 - 1s 307ms/step - loss: 0.5934 - accuracy: 0.6864 - val_loss: 0.5461 - val_accuracy: 0.7800\n",
      "Epoch 22/30\n",
      "4/4 [==============================] - ETA: 1s - loss: 0.5736 - accuracy: 0.71 - ETA: 0s - loss: 0.5437 - accuracy: 0.74 - ETA: 0s - loss: 0.5361 - accuracy: 0.73 - 1s 357ms/step - loss: 0.5479 - accuracy: 0.7227 - val_loss: 0.5260 - val_accuracy: 0.7400\n",
      "Epoch 23/30\n",
      "4/4 [==============================] - ETA: 0s - loss: 0.6230 - accuracy: 0.59 - ETA: 0s - loss: 0.5627 - accuracy: 0.71 - ETA: 0s - loss: 0.5556 - accuracy: 0.74 - 1s 314ms/step - loss: 0.5258 - accuracy: 0.7669 - val_loss: 0.5604 - val_accuracy: 0.7800\n",
      "Epoch 24/30\n",
      "4/4 [==============================] - ETA: 0s - loss: 0.5615 - accuracy: 0.75 - ETA: 0s - loss: 0.6264 - accuracy: 0.67 - ETA: 0s - loss: 0.5906 - accuracy: 0.72 - 1s 286ms/step - loss: 0.5720 - accuracy: 0.7315 - val_loss: 0.5865 - val_accuracy: 0.6600\n",
      "Epoch 25/30\n",
      "4/4 [==============================] - ETA: 0s - loss: 0.6257 - accuracy: 0.65 - ETA: 0s - loss: 0.5911 - accuracy: 0.68 - ETA: 0s - loss: 0.5777 - accuracy: 0.68 - 2s 378ms/step - loss: 0.5740 - accuracy: 0.6914 - val_loss: 0.5470 - val_accuracy: 0.7600\n",
      "Epoch 26/30\n",
      "4/4 [==============================] - ETA: 1s - loss: 0.6105 - accuracy: 0.64 - ETA: 0s - loss: 0.5850 - accuracy: 0.67 - ETA: 0s - loss: 0.5788 - accuracy: 0.70 - 1s 358ms/step - loss: 0.5662 - accuracy: 0.7148 - val_loss: 0.5229 - val_accuracy: 0.7800\n",
      "Epoch 27/30\n",
      "4/4 [==============================] - ETA: 0s - loss: 0.5311 - accuracy: 0.72 - ETA: 0s - loss: 0.5226 - accuracy: 0.75 - ETA: 0s - loss: 0.5286 - accuracy: 0.75 - 1s 285ms/step - loss: 0.5357 - accuracy: 0.7315 - val_loss: 0.5715 - val_accuracy: 0.7200\n",
      "Epoch 28/30\n",
      "4/4 [==============================] - ETA: 1s - loss: 0.4499 - accuracy: 0.82 - ETA: 0s - loss: 0.4741 - accuracy: 0.82 - ETA: 0s - loss: 0.4907 - accuracy: 0.79 - 1s 352ms/step - loss: 0.5082 - accuracy: 0.7734 - val_loss: 0.5306 - val_accuracy: 0.7800\n",
      "Epoch 29/30\n",
      "4/4 [==============================] - ETA: 0s - loss: 0.5048 - accuracy: 0.75 - ETA: 0s - loss: 0.5371 - accuracy: 0.73 - ETA: 0s - loss: 0.5336 - accuracy: 0.75 - 1s 304ms/step - loss: 0.5432 - accuracy: 0.7415 - val_loss: 0.5562 - val_accuracy: 0.7000\n",
      "Epoch 30/30\n",
      "4/4 [==============================] - ETA: 1s - loss: 0.4258 - accuracy: 0.87 - ETA: 0s - loss: 0.4373 - accuracy: 0.83 - ETA: 0s - loss: 0.4569 - accuracy: 0.80 - 1s 316ms/step - loss: 0.5095 - accuracy: 0.7331 - val_loss: 0.5349 - val_accuracy: 0.7000\n"
     ]
    }
   ],
   "source": [
    "train_model = model.fit_generator(datagen.flow(train_img,train_label, batch_size=batch_size),\n",
    "                              epochs = epochs, validation_data = (valid_img,valid_label),\n",
    "                              verbose = 1, steps_per_epoch=train_img.shape[0] // batch_size)"
   ]
  },
  {
   "cell_type": "code",
   "execution_count": 32,
   "metadata": {},
   "outputs": [
    {
     "data": {
      "image/png": "[encoded data removed]",
      "text/plain": [
       "<Figure size 432x288 with 1 Axes>"
      ]
     },
     "metadata": {
      "needs_background": "light"
     },
     "output_type": "display_data"
    }
   ],
   "source": [
    "#Evaluating the Model Performance\n",
    "plt.plot(train_model.history['loss'])\n",
    "plt.plot(train_model.history['val_loss'])\n",
    "plt.title('Model Loss')\n",
    "plt.ylabel('Loss')\n",
    "plt.xlabel('Epochs')\n",
    "plt.legend(['train', 'test'])\n",
    "plt.show()"
   ]
  },
  {
   "cell_type": "code",
   "execution_count": 33,
   "metadata": {},
   "outputs": [
    {
     "data": {
      "image/png": "[encoded data removed]",
      "text/plain": [
       "<Figure size 432x288 with 1 Axes>"
      ]
     },
     "metadata": {
      "needs_background": "light"
     },
     "output_type": "display_data"
    }
   ],
   "source": [
    "plt.plot(train_model.history['accuracy'])\n",
    "plt.plot(train_model.history['val_accuracy'])\n",
    "plt.title('Model Accuracy')\n",
    "plt.ylabel('Accuracy')\n",
    "plt.xlabel('Epochs')\n",
    "plt.legend(['train', 'test'])\n",
    "plt.show()"
   ]
  },
  {
   "cell_type": "code",
   "execution_count": 67,
   "metadata": {},
   "outputs": [
    {
     "name": "stdout",
     "output_type": "stream",
     "text": [
      "50/50 [==============================] - ETA:  - 0s 2ms/step\n"
     ]
    }
   ],
   "source": [
    "test_loss, test_acc = model.evaluate(test_img, test_label)"
   ]
  },
  {
   "cell_type": "code",
   "execution_count": 68,
   "metadata": {},
   "outputs": [
    {
     "name": "stdout",
     "output_type": "stream",
     "text": [
      "Test loss: 0.8945484590530396\n",
      "Test accuracy: 0.41999998688697815\n"
     ]
    }
   ],
   "source": [
    "print('Test loss:', test_loss)\n",
    "print('Test accuracy:', test_acc)"
   ]
  },
  {
   "cell_type": "code",
   "execution_count": 36,
   "metadata": {},
   "outputs": [],
   "source": [
    "# getting predictions on val set.\n",
    "pred=model.predict(test_img)\n",
    "pred_digits=np.argmax(pred,axis=1)"
   ]
  },
  {
   "cell_type": "code",
   "execution_count": 41,
   "metadata": {},
   "outputs": [],
   "source": [
    "#To test for the given single input\n",
    "im1=cv2.imread('2_64.jpg')\n",
    "image = rgb2gray(im1)\n",
    "img = convolve2D(image, kernel, padding=0)\n",
    "img = img.reshape(1,60,60,1)\n",
    "pred=model.predict(img)\n",
    "pred_digits=np.argmax(pred,axis=1)"
   ]
  },
  {
   "cell_type": "code",
   "execution_count": 69,
   "metadata": {},
   "outputs": [
    {
     "name": "stderr",
     "output_type": "stream",
     "text": [
      "E:\\App\\lib\\site-packages\\sklearn\\preprocessing\\label.py:151: DeprecationWarning: The truth value of an empty array is ambiguous. Returning False, but in future this will result in an error. Use `array.size > 0` to check that an array is not empty.\n",
      "  if diff:\n"
     ]
    },
    {
     "data": {
      "text/plain": [
       "\"[['cover']]\""
      ]
     },
     "execution_count": 69,
     "metadata": {},
     "output_type": "execute_result"
    },
    {
     "data": {
      "image/png": "[encoded data removed]",
      "text/plain": [
       "<Figure size 432x288 with 1 Axes>"
      ]
     },
     "metadata": {
      "needs_background": "light"
     },
     "output_type": "display_data"
    }
   ],
   "source": [
    "fig1,ax1=plt.subplots(1,1)\n",
    "ax1.imshow(im1)\n",
    "str(le.inverse_transform([pred_digits]))"
   ]
  },
  {
   "cell_type": "code",
   "execution_count": 70,
   "metadata": {},
   "outputs": [],
   "source": [
    "# getting predictions on val set.\n",
    "pred=model.predict(test_img)\n",
    "pred_digits=np.argmax(pred,axis=1)"
   ]
  },
  {
   "cell_type": "code",
   "execution_count": 72,
   "metadata": {},
   "outputs": [],
   "source": [
    "# now storing some properly as well as misclassified indexes'.\n",
    "i=0\n",
    "prop_class=[]\n",
    "mis_class=[]\n",
    "\n",
    "for i in range(len(test_label)):\n",
    "    if(np.argmax(test_label[i])==pred_digits[i]):\n",
    "        prop_class.append(i)\n",
    "    if(len(prop_class)==9):\n",
    "        break\n",
    "\n",
    "i=0\n",
    "for i in range(len(test_label)):\n",
    "    if(not np.argmax(test_label[i])==pred_digits[i]):\n",
    "        mis_class.append(i)\n",
    "    if(len(mis_class)==6):\n",
    "        break"
   ]
  },
  {
   "cell_type": "code",
   "execution_count": 75,
   "metadata": {},
   "outputs": [
    {
     "name": "stdout",
     "output_type": "stream",
     "text": [
      "\n",
      "\n",
      "CORRECTLY CLASSIFIED FRUIT IMAGES\n",
      "\n",
      "\n"
     ]
    },
    {
     "ename": "TypeError",
     "evalue": "Invalid dimensions for image data",
     "output_type": "error",
     "traceback": [
      "\u001b[1;31m---------------------------------------------------------------------------\u001b[0m",
      "\u001b[1;31mTypeError\u001b[0m                                 Traceback (most recent call last)",
      "\u001b[1;32m<ipython-input-75-4aff69472d84>\u001b[0m in \u001b[0;36m<module>\u001b[1;34m()\u001b[0m\n\u001b[0;32m     16\u001b[0m         \u001b[0mimg\u001b[0m \u001b[1;33m=\u001b[0m \u001b[0mtest_img\u001b[0m\u001b[1;33m[\u001b[0m\u001b[0mprop_class\u001b[0m\u001b[1;33m[\u001b[0m\u001b[0mcount\u001b[0m\u001b[1;33m]\u001b[0m\u001b[1;33m]\u001b[0m\u001b[1;33m\u001b[0m\u001b[0m\n\u001b[0;32m     17\u001b[0m         \u001b[1;31m#img = cv2.merge((r,g,b))\u001b[0m\u001b[1;33m\u001b[0m\u001b[1;33m\u001b[0m\u001b[0m\n\u001b[1;32m---> 18\u001b[1;33m         \u001b[0max\u001b[0m\u001b[1;33m[\u001b[0m\u001b[0mi\u001b[0m\u001b[1;33m,\u001b[0m\u001b[0mj\u001b[0m\u001b[1;33m]\u001b[0m\u001b[1;33m.\u001b[0m\u001b[0mimshow\u001b[0m\u001b[1;33m(\u001b[0m\u001b[0mimg\u001b[0m\u001b[1;33m)\u001b[0m\u001b[1;33m\u001b[0m\u001b[0m\n\u001b[0m\u001b[0;32m     19\u001b[0m         \u001b[0max\u001b[0m\u001b[1;33m[\u001b[0m\u001b[0mi\u001b[0m\u001b[1;33m,\u001b[0m\u001b[0mj\u001b[0m\u001b[1;33m]\u001b[0m\u001b[1;33m.\u001b[0m\u001b[0mset_title\u001b[0m\u001b[1;33m(\u001b[0m\u001b[1;34m\"Predicted Fruit : \"\u001b[0m\u001b[1;33m+\u001b[0m\u001b[0mstr\u001b[0m\u001b[1;33m(\u001b[0m\u001b[0mle\u001b[0m\u001b[1;33m.\u001b[0m\u001b[0minverse_transform\u001b[0m\u001b[1;33m(\u001b[0m\u001b[1;33m[\u001b[0m\u001b[0mpred_digits\u001b[0m\u001b[1;33m[\u001b[0m\u001b[0mprop_class\u001b[0m\u001b[1;33m[\u001b[0m\u001b[0mcount\u001b[0m\u001b[1;33m]\u001b[0m\u001b[1;33m]\u001b[0m\u001b[1;33m]\u001b[0m\u001b[1;33m)\u001b[0m\u001b[1;33m)\u001b[0m\u001b[1;33m+\u001b[0m\u001b[1;34m\"\\n\"\u001b[0m\u001b[1;33m+\u001b[0m\u001b[1;34m\"Actual Fruit : \"\u001b[0m\u001b[1;33m+\u001b[0m\u001b[0mstr\u001b[0m\u001b[1;33m(\u001b[0m\u001b[0mle\u001b[0m\u001b[1;33m.\u001b[0m\u001b[0minverse_transform\u001b[0m\u001b[1;33m(\u001b[0m\u001b[1;33m[\u001b[0m\u001b[0mnp\u001b[0m\u001b[1;33m.\u001b[0m\u001b[0margmax\u001b[0m\u001b[1;33m(\u001b[0m\u001b[1;33m[\u001b[0m\u001b[0mtest_label\u001b[0m\u001b[1;33m[\u001b[0m\u001b[0mprop_class\u001b[0m\u001b[1;33m[\u001b[0m\u001b[0mcount\u001b[0m\u001b[1;33m]\u001b[0m\u001b[1;33m]\u001b[0m\u001b[1;33m]\u001b[0m\u001b[1;33m)\u001b[0m\u001b[1;33m]\u001b[0m\u001b[1;33m)\u001b[0m\u001b[1;33m)\u001b[0m\u001b[1;33m)\u001b[0m\u001b[1;33m\u001b[0m\u001b[0m\n\u001b[0;32m     20\u001b[0m         \u001b[0mplt\u001b[0m\u001b[1;33m.\u001b[0m\u001b[0mtight_layout\u001b[0m\u001b[1;33m(\u001b[0m\u001b[1;33m)\u001b[0m\u001b[1;33m\u001b[0m\u001b[0m\n",
      "\u001b[1;32mE:\\App\\lib\\site-packages\\matplotlib\\__init__.py\u001b[0m in \u001b[0;36minner\u001b[1;34m(ax, *args, **kwargs)\u001b[0m\n\u001b[0;32m   1865\u001b[0m                         \u001b[1;34m\"the Matplotlib list!)\"\u001b[0m \u001b[1;33m%\u001b[0m \u001b[1;33m(\u001b[0m\u001b[0mlabel_namer\u001b[0m\u001b[1;33m,\u001b[0m \u001b[0mfunc\u001b[0m\u001b[1;33m.\u001b[0m\u001b[0m__name__\u001b[0m\u001b[1;33m)\u001b[0m\u001b[1;33m,\u001b[0m\u001b[1;33m\u001b[0m\u001b[0m\n\u001b[0;32m   1866\u001b[0m                         RuntimeWarning, stacklevel=2)\n\u001b[1;32m-> 1867\u001b[1;33m             \u001b[1;32mreturn\u001b[0m \u001b[0mfunc\u001b[0m\u001b[1;33m(\u001b[0m\u001b[0max\u001b[0m\u001b[1;33m,\u001b[0m \u001b[1;33m*\u001b[0m\u001b[0margs\u001b[0m\u001b[1;33m,\u001b[0m \u001b[1;33m**\u001b[0m\u001b[0mkwargs\u001b[0m\u001b[1;33m)\u001b[0m\u001b[1;33m\u001b[0m\u001b[0m\n\u001b[0m\u001b[0;32m   1868\u001b[0m \u001b[1;33m\u001b[0m\u001b[0m\n\u001b[0;32m   1869\u001b[0m         inner.__doc__ = _add_data_doc(inner.__doc__,\n",
      "\u001b[1;32mE:\\App\\lib\\site-packages\\matplotlib\\axes\\_axes.py\u001b[0m in \u001b[0;36mimshow\u001b[1;34m(self, X, cmap, norm, aspect, interpolation, alpha, vmin, vmax, origin, extent, shape, filternorm, filterrad, imlim, resample, url, **kwargs)\u001b[0m\n\u001b[0;32m   5499\u001b[0m                               resample=resample, **kwargs)\n\u001b[0;32m   5500\u001b[0m \u001b[1;33m\u001b[0m\u001b[0m\n\u001b[1;32m-> 5501\u001b[1;33m         \u001b[0mim\u001b[0m\u001b[1;33m.\u001b[0m\u001b[0mset_data\u001b[0m\u001b[1;33m(\u001b[0m\u001b[0mX\u001b[0m\u001b[1;33m)\u001b[0m\u001b[1;33m\u001b[0m\u001b[0m\n\u001b[0m\u001b[0;32m   5502\u001b[0m         \u001b[0mim\u001b[0m\u001b[1;33m.\u001b[0m\u001b[0mset_alpha\u001b[0m\u001b[1;33m(\u001b[0m\u001b[0malpha\u001b[0m\u001b[1;33m)\u001b[0m\u001b[1;33m\u001b[0m\u001b[0m\n\u001b[0;32m   5503\u001b[0m         \u001b[1;32mif\u001b[0m \u001b[0mim\u001b[0m\u001b[1;33m.\u001b[0m\u001b[0mget_clip_path\u001b[0m\u001b[1;33m(\u001b[0m\u001b[1;33m)\u001b[0m \u001b[1;32mis\u001b[0m \u001b[1;32mNone\u001b[0m\u001b[1;33m:\u001b[0m\u001b[1;33m\u001b[0m\u001b[0m\n",
      "\u001b[1;32mE:\\App\\lib\\site-packages\\matplotlib\\image.py\u001b[0m in \u001b[0;36mset_data\u001b[1;34m(self, A)\u001b[0m\n\u001b[0;32m    652\u001b[0m         if not (self._A.ndim == 2\n\u001b[0;32m    653\u001b[0m                 or self._A.ndim == 3 and self._A.shape[-1] in [3, 4]):\n\u001b[1;32m--> 654\u001b[1;33m             \u001b[1;32mraise\u001b[0m \u001b[0mTypeError\u001b[0m\u001b[1;33m(\u001b[0m\u001b[1;34m\"Invalid dimensions for image data\"\u001b[0m\u001b[1;33m)\u001b[0m\u001b[1;33m\u001b[0m\u001b[0m\n\u001b[0m\u001b[0;32m    655\u001b[0m \u001b[1;33m\u001b[0m\u001b[0m\n\u001b[0;32m    656\u001b[0m         \u001b[1;32mif\u001b[0m \u001b[0mself\u001b[0m\u001b[1;33m.\u001b[0m\u001b[0m_A\u001b[0m\u001b[1;33m.\u001b[0m\u001b[0mndim\u001b[0m \u001b[1;33m==\u001b[0m \u001b[1;36m3\u001b[0m\u001b[1;33m:\u001b[0m\u001b[1;33m\u001b[0m\u001b[0m\n",
      "\u001b[1;31mTypeError\u001b[0m: Invalid dimensions for image data"
     ]
    },
    {
     "data": {
      "image/png": "[encoded data removed]",
      "text/plain": [
       "<Figure size 720x720 with 9 Axes>"
      ]
     },
     "metadata": {
      "needs_background": "light"
     },
     "output_type": "display_data"
    }
   ],
   "source": [
    "#Importing Various Modules\n",
    "import warnings\n",
    "warnings.filterwarnings('always')\n",
    "warnings.filterwarnings('ignore')\n",
    "#CORRECTLY CLASSIFIED FRUIT IMAGES\n",
    "warnings.filterwarnings('always')\n",
    "warnings.filterwarnings('ignore')\n",
    "print('\\n')\n",
    "print('CORRECTLY CLASSIFIED FRUIT IMAGES')\n",
    "print('\\n')\n",
    "count=0\n",
    "fig,ax=plt.subplots(3,3)\n",
    "fig.set_size_inches(10,10)\n",
    "for i in range (3):\n",
    "    for j in range (3):\n",
    "        img = test_img[prop_class[count]]\n",
    "        #img = cv2.merge((r,g,b))\n",
    "        ax[i,j].imshow(img)\n",
    "        ax[i,j].set_title(\"Predicted Fruit : \"+str(le.inverse_transform([pred_digits[prop_class[count]]]))+\"\\n\"+\"Actual Fruit : \"+str(le.inverse_transform([np.argmax([test_label[prop_class[count]]])])))\n",
    "        plt.tight_layout()\n",
    "        count+=1"
   ]
  },
  {
   "cell_type": "code",
   "execution_count": null,
   "metadata": {},
   "outputs": [],
   "source": []
  }
 ],
 "metadata": {
  "kernelspec": {
   "display_name": "Python 3",
   "language": "python",
   "name": "python3"
  },
  "language_info": {
   "codemirror_mode": {
    "name": "ipython",
    "version": 3
   },
   "file_extension": ".py",
   "mimetype": "text/x-python",
   "name": "python",
   "nbconvert_exporter": "python",
   "pygments_lexer": "ipython3",
   "version": "3.7.0"
  }
 },
 "nbformat": 4,
 "nbformat_minor": 2
}
