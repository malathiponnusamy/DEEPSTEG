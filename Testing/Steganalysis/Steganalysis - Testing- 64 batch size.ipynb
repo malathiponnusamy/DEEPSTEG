{
 "cells": [
  {
   "cell_type": "code",
   "execution_count": 1,
   "metadata": {},
   "outputs": [
    {
     "name": "stderr",
     "output_type": "stream",
     "text": [
      "Using TensorFlow backend.\n"
     ]
    }
   ],
   "source": [
    "#configure\n",
    "# sets matplotlib to inline and displays graphs below the corressponding cell.\n",
    "# data visualisation and manipulation\n",
    "import pandas as pd\n",
    "import matplotlib.pyplot as plt\n",
    "from matplotlib import style\n",
    "import seaborn as sns\n",
    "\n",
    "import keras\n",
    "from keras.models import Sequential\n",
    "from keras.callbacks import ModelCheckpoint, LearningRateScheduler, TensorBoard\n",
    "from keras.engine.topology import Network\n",
    "from keras.layers import *\n",
    "from keras.models import Model\n",
    "from keras.preprocessing import image\n",
    "\n",
    "import matplotlib.pyplot as plt\n",
    "import scipy.misc\n",
    "\n",
    "%matplotlib inline  \n",
    "style.use('fivethirtyeight')\n",
    "sns.set(style='whitegrid',color_codes=True)\n",
    "\n",
    "#model selection\n",
    "from sklearn.model_selection import train_test_split\n",
    "from sklearn.model_selection import KFold\n",
    "from sklearn.metrics import accuracy_score,precision_score,recall_score,confusion_matrix,roc_curve,roc_auc_score\n",
    "from sklearn.model_selection import GridSearchCV\n",
    "from sklearn.preprocessing import LabelEncoder\n",
    "\n",
    "#preprocess.\n",
    "from keras.preprocessing.image import ImageDataGenerator\n",
    "\n",
    "#dl libraraies\n",
    "from keras import backend as K\n",
    "from keras.models import Sequential\n",
    "from keras.layers import Dense\n",
    "from keras.optimizers import Adam,SGD,Adagrad,Adadelta,RMSprop\n",
    "from keras.utils import to_categorical\n",
    "\n",
    "# specifically for cnn\n",
    "from keras.layers import Dropout, Flatten,Activation\n",
    "from keras.layers import Conv2D, MaxPooling2D, BatchNormalization\n",
    " \n",
    "import tensorflow as tf\n",
    "import random as rn\n",
    "\n",
    "# specifically for manipulating zipped images and getting numpy arrays of pixel values of images.\n",
    "import cv2                  \n",
    "import numpy as np  \n",
    "from tqdm import tqdm\n",
    "import os                   \n",
    "from random import shuffle  \n",
    "from zipfile import ZipFile\n",
    "from PIL import Image"
   ]
  },
  {
   "cell_type": "code",
   "execution_count": 2,
   "metadata": {},
   "outputs": [],
   "source": [
    "import numpy as np\n",
    "kernel = np.array([[-1/12, 2/12, -2/12, 2/12, -1/12], \n",
    "                   [2/12, -6/12, 8/12, -6/12, -2/12], \n",
    "                   [-2/12, 8/12, -12/12, 8/12, -2/12],\n",
    "                   [2/12, -6/12, 8/12, -6/12, -2/12], \n",
    "                   [-1/12, 2/12, -2/12, 2/12, -1/12]])"
   ]
  },
  {
   "cell_type": "code",
   "execution_count": 3,
   "metadata": {},
   "outputs": [
    {
     "data": {
      "text/plain": [
       "array([[-0.08333333,  0.16666667, -0.16666667,  0.16666667, -0.08333333],\n",
       "       [ 0.16666667, -0.5       ,  0.66666667, -0.5       , -0.16666667],\n",
       "       [-0.16666667,  0.66666667, -1.        ,  0.66666667, -0.16666667],\n",
       "       [ 0.16666667, -0.5       ,  0.66666667, -0.5       , -0.16666667],\n",
       "       [-0.08333333,  0.16666667, -0.16666667,  0.16666667, -0.08333333]])"
      ]
     },
     "execution_count": 3,
     "metadata": {},
     "output_type": "execute_result"
    }
   ],
   "source": [
    "kernel"
   ]
  },
  {
   "cell_type": "code",
   "execution_count": 4,
   "metadata": {},
   "outputs": [],
   "source": [
    "def convolve2D(image, kernel, padding=0, strides=1):\n",
    "    # Cross Correlation\n",
    "    kernel = np.flipud(np.fliplr(kernel))\n",
    "\n",
    "    # Gather Shapes of Kernel + Image + Padding\n",
    "    xKernShape = kernel.shape[0]\n",
    "    yKernShape = kernel.shape[1]\n",
    "    xImgShape = image.shape[0]\n",
    "    yImgShape = image.shape[1]\n",
    "\n",
    "    # Shape of Output Convolution\n",
    "    xOutput = int(((xImgShape - xKernShape + 2 * padding) / strides) + 1)\n",
    "    yOutput = int(((yImgShape - yKernShape + 2 * padding) / strides) + 1)\n",
    "    output = np.zeros((xOutput, yOutput))\n",
    "\n",
    "    # Apply Equal Padding to All Sides\n",
    "    if padding != 0:\n",
    "        imagePadded = np.zeros((image.shape[0] + padding*2, image.shape[1] + padding*2))\n",
    "        imagePadded[int(padding):int(-1 * padding), int(padding):int(-1 * padding)] = image\n",
    "        print(imagePadded)\n",
    "    else:\n",
    "        imagePadded = image\n",
    "\n",
    "    # Iterate through image\n",
    "    for y in range(image.shape[1]):\n",
    "        # Exit Convolution\n",
    "        if y > image.shape[1] - yKernShape:\n",
    "            break\n",
    "        # Only Convolve if y has gone down by the specified Strides\n",
    "        if y % strides == 0:\n",
    "            for x in range(image.shape[0]):\n",
    "                # Go to next row once kernel is out of bounds\n",
    "                if x > image.shape[0] - xKernShape:\n",
    "                    break\n",
    "                try:\n",
    "                    # Only Convolve if x has moved by the specified Strides\n",
    "                    if x % strides == 0:\n",
    "                        output[x, y] = (kernel * imagePadded[x: x + xKernShape, y: y + yKernShape]).sum()\n",
    "                except:\n",
    "                    break\n",
    "\n",
    "    return output"
   ]
  },
  {
   "cell_type": "code",
   "execution_count": 5,
   "metadata": {},
   "outputs": [],
   "source": [
    "train_a_dir='F:/Mine/MTECH DISSERTATION DOCUMENTS/DATASET COLLECTIONS/Dataset used in project/testing/train/cover'\n",
    "train_b_dir='F:/Mine/MTECH DISSERTATION DOCUMENTS/DATASET COLLECTIONS/Dataset used in project/testing/train/stego'\n",
    "test_a_dir='F:/Mine/MTECH DISSERTATION DOCUMENTS/DATASET COLLECTIONS/Dataset used in project/testing/test/cover'\n",
    "test_b_dir='F:/Mine/MTECH DISSERTATION DOCUMENTS/DATASET COLLECTIONS/Dataset used in project/testing/test/stego'\n",
    "valid_a_dir='F:/Mine/MTECH DISSERTATION DOCUMENTS/DATASET COLLECTIONS/Dataset used in project/testing/valid/cover'\n",
    "valid_b_dir='F:/Mine/MTECH DISSERTATION DOCUMENTS/DATASET COLLECTIONS/Dataset used in project/testing/valid/stego'"
   ]
  },
  {
   "cell_type": "code",
   "execution_count": 6,
   "metadata": {},
   "outputs": [],
   "source": [
    "def assign_label(img,img_class):\n",
    "    return img_class"
   ]
  },
  {
   "cell_type": "code",
   "execution_count": 7,
   "metadata": {},
   "outputs": [],
   "source": [
    "def rgb2gray(rgb):\n",
    "    return np.dot(rgb[...,:3], [0.299, 0.587, 0.114])"
   ]
  },
  {
   "cell_type": "code",
   "execution_count": 8,
   "metadata": {},
   "outputs": [],
   "source": [
    "X = []\n",
    "Z = []\n",
    "X1 = []\n",
    "Z1 = []\n",
    "X2 = []\n",
    "Z2 = []\n",
    "def make_train_data(img_class,DIR):\n",
    "    for img in tqdm(os.listdir(DIR)):\n",
    "        label=assign_label(img,img_class)\n",
    "        path = os.path.join(DIR,img)\n",
    "        img = cv2.imread(path,cv2.IMREAD_COLOR)\n",
    "        image = rgb2gray(img)\n",
    "        img = convolve2D(image, kernel, padding=0) \n",
    "        #=img = cv2.resize(img, (IMG_SIZE,IMG_SIZE))\n",
    "        \n",
    "        X.append(np.array(img))\n",
    "        Z.append(str(label))\n",
    "def make_test_data(img_class,DIR):\n",
    "    for img in tqdm(os.listdir(DIR)):\n",
    "        label=assign_label(img,img_class)\n",
    "        path = os.path.join(DIR,img)\n",
    "        img = cv2.imread(path,cv2.IMREAD_COLOR)\n",
    "        image = rgb2gray(img)\n",
    "        img = convolve2D(image, kernel, padding=0)\n",
    "        #img = cv2.resize(img, (IMG_SIZE,IMG_SIZE))\n",
    "        \n",
    "        X1.append(np.array(img))\n",
    "        Z1.append(str(label))\n",
    "def make_valid_data(img_class,DIR):\n",
    "    for img in tqdm(os.listdir(DIR)):\n",
    "        label=assign_label(img,img_class)\n",
    "        path = os.path.join(DIR,img)\n",
    "        img = cv2.imread(path,cv2.IMREAD_COLOR)\n",
    "        image = rgb2gray(img)\n",
    "        img = convolve2D(image, kernel, padding=0)\n",
    "        #img = cv2.resize(img, (IMG_SIZE,IMG_SIZE))\n",
    "        \n",
    "        X2.append(np.array(img))\n",
    "        Z2.append(str(label))"
   ]
  },
  {
   "cell_type": "code",
   "execution_count": 9,
   "metadata": {},
   "outputs": [
    {
     "name": "stderr",
     "output_type": "stream",
     "text": [
      "100%|██████████| 100/100 [00:05<00:00, 20.31it/s]\n",
      "100%|██████████| 100/100 [00:04<00:00, 21.44it/s]\n",
      "100%|██████████| 25/25 [00:01<00:00, 19.44it/s]\n",
      "100%|██████████| 25/25 [00:01<00:00, 19.83it/s]\n",
      "100%|██████████| 25/25 [00:00<00:00, 28.24it/s]\n",
      "100%|██████████| 25/25 [00:00<00:00, 40.19it/s]\n"
     ]
    }
   ],
   "source": [
    "make_train_data('cover',train_a_dir)\n",
    "make_train_data('stego',train_b_dir)\n",
    "make_test_data('cover',test_a_dir)\n",
    "make_test_data('stego',test_b_dir)\n",
    "make_valid_data('cover',valid_a_dir)\n",
    "make_valid_data('stego',valid_b_dir)"
   ]
  },
  {
   "cell_type": "code",
   "execution_count": 10,
   "metadata": {},
   "outputs": [],
   "source": [
    "from sklearn.preprocessing import LabelEncoder\n",
    "from keras.utils import to_categorical\n",
    "le=LabelEncoder()\n",
    "Y=le.fit_transform(Z)\n",
    "train_label = to_categorical(Y,2)\n",
    "X=np.array(X)\n",
    "train_img = X\n",
    "Y1=le.fit_transform(Z1)\n",
    "test_label = to_categorical(Y1,2)\n",
    "X1=np.array(X1)\n",
    "test_img = X1\n",
    "Y2=le.fit_transform(Z2)\n",
    "valid_label = to_categorical(Y2,2)\n",
    "X2=np.array(X2)\n",
    "valid_img = X2"
   ]
  },
  {
   "cell_type": "code",
   "execution_count": 11,
   "metadata": {},
   "outputs": [
    {
     "data": {
      "text/plain": [
       "(200, 60, 60)"
      ]
     },
     "execution_count": 11,
     "metadata": {},
     "output_type": "execute_result"
    }
   ],
   "source": [
    "train_img.shape"
   ]
  },
  {
   "cell_type": "code",
   "execution_count": 12,
   "metadata": {},
   "outputs": [],
   "source": [
    "train_img = train_img.reshape(train_img.shape[0],train_img.shape[1],train_img.shape[2],1)"
   ]
  },
  {
   "cell_type": "code",
   "execution_count": 13,
   "metadata": {},
   "outputs": [
    {
     "data": {
      "text/plain": [
       "(200, 60, 60, 1)"
      ]
     },
     "execution_count": 13,
     "metadata": {},
     "output_type": "execute_result"
    }
   ],
   "source": [
    "train_img.shape"
   ]
  },
  {
   "cell_type": "code",
   "execution_count": 14,
   "metadata": {},
   "outputs": [],
   "source": [
    "test_img.shape = (test_img.shape[0],test_img.shape[1],test_img.shape[2],1)"
   ]
  },
  {
   "cell_type": "code",
   "execution_count": 15,
   "metadata": {},
   "outputs": [
    {
     "data": {
      "text/plain": [
       "(50, 60, 60, 1)"
      ]
     },
     "execution_count": 15,
     "metadata": {},
     "output_type": "execute_result"
    }
   ],
   "source": [
    "test_img.shape"
   ]
  },
  {
   "cell_type": "code",
   "execution_count": 16,
   "metadata": {},
   "outputs": [
    {
     "data": {
      "text/plain": [
       "(50, 60, 60)"
      ]
     },
     "execution_count": 16,
     "metadata": {},
     "output_type": "execute_result"
    }
   ],
   "source": [
    "valid_img.shape"
   ]
  },
  {
   "cell_type": "code",
   "execution_count": 17,
   "metadata": {},
   "outputs": [],
   "source": [
    "valid_img.shape = (valid_img.shape[0],valid_img.shape[1],valid_img.shape[2],1)"
   ]
  },
  {
   "cell_type": "code",
   "execution_count": 18,
   "metadata": {},
   "outputs": [
    {
     "data": {
      "text/plain": [
       "(50, 60, 60, 1)"
      ]
     },
     "execution_count": 18,
     "metadata": {},
     "output_type": "execute_result"
    }
   ],
   "source": [
    "valid_img.shape"
   ]
  },
  {
   "cell_type": "code",
   "execution_count": 19,
   "metadata": {},
   "outputs": [],
   "source": [
    "def gaussian(x):\n",
    "    mean = tf.math.reduce_mean(x)\n",
    "    std = tf.math.reduce_std(x)\n",
    "    return tf.exp(-((x-mean)**2)/(std)**2) "
   ]
  },
  {
   "cell_type": "code",
   "execution_count": 20,
   "metadata": {},
   "outputs": [],
   "source": [
    "model = Sequential()"
   ]
  },
  {
   "cell_type": "code",
   "execution_count": 21,
   "metadata": {},
   "outputs": [],
   "source": [
    "#Second layer - Convolution and pooling\n",
    "model.add(Conv2D(filters = 16, kernel_size = (5,5),strides=(1,1),padding = 'Valid',activation =gaussian, input_shape = (60,60,1)))\n",
    "model.add(AveragePooling2D(pool_size=(3,3),strides=(2,2),padding = 'Same'))"
   ]
  },
  {
   "cell_type": "code",
   "execution_count": 22,
   "metadata": {},
   "outputs": [],
   "source": [
    "#Third layer - Convolution and pooling\n",
    "model.add(Conv2D(filters = 16, kernel_size = (3,3),strides=(1,1),padding = 'Valid',activation =gaussian))\n",
    "model.add(AveragePooling2D(pool_size=(3,3),strides=(2,2),padding = 'Same'))"
   ]
  },
  {
   "cell_type": "code",
   "execution_count": 23,
   "metadata": {},
   "outputs": [],
   "source": [
    "#Fourth layer - Convolution and pooling\n",
    "model.add(Conv2D(filters = 16, kernel_size = (3,3),strides=(1,1),padding = 'Valid',activation =gaussian))\n",
    "model.add(AveragePooling2D(pool_size=(3,3),strides=(2,2),padding = 'Same'))"
   ]
  },
  {
   "cell_type": "code",
   "execution_count": 24,
   "metadata": {},
   "outputs": [],
   "source": [
    "#Fifth layer - Convolution and pooling\n",
    "model.add(Conv2D(filters = 16, kernel_size = (5,5),strides=(1,1),padding = 'Valid',activation =gaussian))\n",
    "model.add(AveragePooling2D(pool_size=(3,3),strides=(2,2),padding = 'Same'))"
   ]
  },
  {
   "cell_type": "code",
   "execution_count": 25,
   "metadata": {},
   "outputs": [],
   "source": [
    "model.add(Flatten())\n",
    "model.add(Dense(32))\n",
    "model.add(Activation('relu'))\n",
    "model.add(Dense(32))\n",
    "model.add(Activation('relu'))\n",
    "model.add(Dense(2, activation = \"softmax\"))"
   ]
  },
  {
   "cell_type": "code",
   "execution_count": 26,
   "metadata": {},
   "outputs": [
    {
     "name": "stdout",
     "output_type": "stream",
     "text": [
      "Model: \"sequential_1\"\n",
      "_________________________________________________________________\n",
      "Layer (type)                 Output Shape              Param #   \n",
      "=================================================================\n",
      "conv2d_1 (Conv2D)            (None, 56, 56, 16)        416       \n",
      "_________________________________________________________________\n",
      "average_pooling2d_1 (Average (None, 28, 28, 16)        0         \n",
      "_________________________________________________________________\n",
      "conv2d_2 (Conv2D)            (None, 26, 26, 16)        2320      \n",
      "_________________________________________________________________\n",
      "average_pooling2d_2 (Average (None, 13, 13, 16)        0         \n",
      "_________________________________________________________________\n",
      "conv2d_3 (Conv2D)            (None, 11, 11, 16)        2320      \n",
      "_________________________________________________________________\n",
      "average_pooling2d_3 (Average (None, 6, 6, 16)          0         \n",
      "_________________________________________________________________\n",
      "conv2d_4 (Conv2D)            (None, 2, 2, 16)          6416      \n",
      "_________________________________________________________________\n",
      "average_pooling2d_4 (Average (None, 1, 1, 16)          0         \n",
      "_________________________________________________________________\n",
      "flatten_1 (Flatten)          (None, 16)                0         \n",
      "_________________________________________________________________\n",
      "dense_1 (Dense)              (None, 32)                544       \n",
      "_________________________________________________________________\n",
      "activation_1 (Activation)    (None, 32)                0         \n",
      "_________________________________________________________________\n",
      "dense_2 (Dense)              (None, 32)                1056      \n",
      "_________________________________________________________________\n",
      "activation_2 (Activation)    (None, 32)                0         \n",
      "_________________________________________________________________\n",
      "dense_3 (Dense)              (None, 2)                 66        \n",
      "=================================================================\n",
      "Total params: 13,138\n",
      "Trainable params: 13,138\n",
      "Non-trainable params: 0\n",
      "_________________________________________________________________\n"
     ]
    }
   ],
   "source": [
    "model.summary()"
   ]
  },
  {
   "cell_type": "code",
   "execution_count": 27,
   "metadata": {},
   "outputs": [
    {
     "data": {
      "text/plain": [
       "(200, 60, 60, 1)"
      ]
     },
     "execution_count": 27,
     "metadata": {},
     "output_type": "execute_result"
    }
   ],
   "source": [
    "train_img.shape"
   ]
  },
  {
   "cell_type": "code",
   "execution_count": 28,
   "metadata": {},
   "outputs": [],
   "source": [
    "batch_size=64\n",
    "epochs=30\n",
    "\n",
    "from keras.callbacks import ReduceLROnPlateau\n",
    "red_lr= ReduceLROnPlateau(monitor='val_acc',patience=3,verbose=1,factor=0.1)"
   ]
  },
  {
   "cell_type": "code",
   "execution_count": 29,
   "metadata": {},
   "outputs": [],
   "source": [
    "#Data Augmentation to prevent Overfitting\n",
    "datagen = ImageDataGenerator(\n",
    "        featurewise_center=False,  # set input mean to 0 over the dataset\n",
    "        samplewise_center=False,  # set each sample mean to 0\n",
    "        featurewise_std_normalization=False,  # divide inputs by std of the dataset\n",
    "        samplewise_std_normalization=False,  # divide each input by its std\n",
    "        zca_whitening=False,  # apply ZCA whitening\n",
    "        rotation_range=10,  # randomly rotate images in the range (degrees, 0 to 180)\n",
    "        zoom_range = 0.1, # Randomly zoom image \n",
    "        width_shift_range=0.2,  # randomly shift images horizontally (fraction of total width)\n",
    "        height_shift_range=0.2,  # randomly shift images vertically (fraction of total height)\n",
    "        horizontal_flip=True,  # randomly flip images\n",
    "        vertical_flip=False)  # randomly flip images\n",
    "\n",
    "\n",
    "datagen.fit(train_img)"
   ]
  },
  {
   "cell_type": "code",
   "execution_count": 30,
   "metadata": {},
   "outputs": [],
   "source": [
    "#Compiling the Keras Model & Summary\n",
    "model.compile(optimizer=Adam(lr=0.001),loss='categorical_crossentropy',metrics=['accuracy'])"
   ]
  },
  {
   "cell_type": "code",
   "execution_count": 31,
   "metadata": {},
   "outputs": [
    {
     "name": "stdout",
     "output_type": "stream",
     "text": [
      "Epoch 1/30\n",
      "3/3 [==============================] - ETA: 5s - loss: 0.6982 - accuracy: 0.46 - ETA: 1s - loss: 0.6963 - accuracy: 0.46 - 4s 1s/step - loss: 0.6951 - accuracy: 0.4706 - val_loss: 0.6962 - val_accuracy: 0.5200\n",
      "Epoch 2/30\n",
      "3/3 [==============================] - ETA: 0s - loss: 0.6931 - accuracy: 0.50 - ETA: 0s - loss: 0.6911 - accuracy: 0.50 - 1s 473ms/step - loss: 0.6925 - accuracy: 0.5000 - val_loss: 0.6807 - val_accuracy: 0.5000\n",
      "Epoch 3/30\n",
      "3/3 [==============================] - ETA: 0s - loss: 0.6880 - accuracy: 0.50 - ETA: 0s - loss: 0.6935 - accuracy: 0.54 - 1s 364ms/step - loss: 0.6906 - accuracy: 0.5441 - val_loss: 0.6686 - val_accuracy: 0.6600\n",
      "Epoch 4/30\n",
      "3/3 [==============================] - ETA: 0s - loss: 0.6819 - accuracy: 0.57 - ETA: 0s - loss: 0.6921 - accuracy: 0.50 - 1s 258ms/step - loss: 0.6782 - accuracy: 0.5147 - val_loss: 0.6856 - val_accuracy: 0.5200\n",
      "Epoch 5/30\n",
      "3/3 [==============================] - ETA: 0s - loss: 0.6413 - accuracy: 0.62 - ETA: 0s - loss: 0.6781 - accuracy: 0.48 - 1s 256ms/step - loss: 0.7019 - accuracy: 0.4706 - val_loss: 0.7038 - val_accuracy: 0.5000\n",
      "Epoch 6/30\n",
      "3/3 [==============================] - ETA: 0s - loss: 0.6921 - accuracy: 0.54 - ETA: 0s - loss: 0.6951 - accuracy: 0.53 - 1s 281ms/step - loss: 0.7070 - accuracy: 0.4896 - val_loss: 0.6711 - val_accuracy: 0.5200\n",
      "Epoch 7/30\n",
      "3/3 [==============================] - ETA: 0s - loss: 0.6701 - accuracy: 0.56 - 1s 252ms/step - loss: 0.6760 - accuracy: 0.5956 - val_loss: 0.6624 - val_accuracy: 0.7000\n",
      "Epoch 8/30\n",
      "3/3 [==============================] - ETA: 0s - loss: 0.6881 - accuracy: 0.51 - ETA: 0s - loss: 0.6853 - accuracy: 0.53 - 1s 248ms/step - loss: 0.6796 - accuracy: 0.5368 - val_loss: 0.6663 - val_accuracy: 0.6600\n",
      "Epoch 9/30\n",
      "3/3 [==============================] - ETA: 0s - loss: 0.6617 - accuracy: 0.62 - ETA: 0s - loss: 0.6757 - accuracy: 0.54 - 1s 247ms/step - loss: 0.6722 - accuracy: 0.5662 - val_loss: 0.6481 - val_accuracy: 0.7200\n",
      "Epoch 10/30\n",
      "3/3 [==============================] - ETA: 0s - loss: 0.6699 - accuracy: 0.65 - ETA: 0s - loss: 0.6789 - accuracy: 0.59 - 1s 335ms/step - loss: 0.6707 - accuracy: 0.6250 - val_loss: 0.6408 - val_accuracy: 0.7600\n",
      "Epoch 11/30\n",
      "3/3 [==============================] - ETA: 0s - loss: 0.6558 - accuracy: 0.37 - ETA: 0s - loss: 0.6575 - accuracy: 0.58 - 1s 173ms/step - loss: 0.6415 - accuracy: 0.6250 - val_loss: 0.6555 - val_accuracy: 0.6800\n",
      "Epoch 12/30\n",
      "3/3 [==============================] - ETA: 0s - loss: 0.6589 - accuracy: 0.68 - ETA: 0s - loss: 0.6628 - accuracy: 0.64 - 1s 328ms/step - loss: 0.6656 - accuracy: 0.6146 - val_loss: 0.6126 - val_accuracy: 0.7200\n",
      "Epoch 13/30\n",
      "3/3 [==============================] - ETA: 0s - loss: 0.6449 - accuracy: 0.67 - ETA: 0s - loss: 0.6479 - accuracy: 0.65 - 1s 262ms/step - loss: 0.6672 - accuracy: 0.6471 - val_loss: 0.6561 - val_accuracy: 0.6200\n",
      "Epoch 14/30\n",
      "3/3 [==============================] - ETA: 0s - loss: 0.6689 - accuracy: 0.64 - ETA: 0s - loss: 0.6437 - accuracy: 0.66 - 1s 336ms/step - loss: 0.6462 - accuracy: 0.6510 - val_loss: 0.5884 - val_accuracy: 0.7400\n",
      "Epoch 15/30\n",
      "3/3 [==============================] - ETA: 0s - loss: 0.6421 - accuracy: 0.62 - ETA: 0s - loss: 0.6674 - accuracy: 0.61 - 1s 267ms/step - loss: 0.6427 - accuracy: 0.6544 - val_loss: 0.5797 - val_accuracy: 0.7800\n",
      "Epoch 16/30\n",
      "3/3 [==============================] - ETA: 0s - loss: 0.6117 - accuracy: 0.65 - 1s 248ms/step - loss: 0.6307 - accuracy: 0.6324 - val_loss: 0.6012 - val_accuracy: 0.7000\n",
      "Epoch 17/30\n",
      "3/3 [==============================] - ETA: 0s - loss: 0.6042 - accuracy: 0.76 - ETA: 0s - loss: 0.6119 - accuracy: 0.71 - 1s 254ms/step - loss: 0.6381 - accuracy: 0.7059 - val_loss: 0.6452 - val_accuracy: 0.6800\n",
      "Epoch 18/30\n",
      "3/3 [==============================] - ETA: 0s - loss: 0.5764 - accuracy: 0.78 - ETA: 0s - loss: 0.6039 - accuracy: 0.71 - 1s 310ms/step - loss: 0.5954 - accuracy: 0.7135 - val_loss: 0.5709 - val_accuracy: 0.7000\n",
      "Epoch 19/30\n",
      "3/3 [==============================] - ETA: 0s - loss: 0.5776 - accuracy: 0.75 - ETA: 0s - loss: 0.5741 - accuracy: 0.75 - 1s 239ms/step - loss: 0.5753 - accuracy: 0.7574 - val_loss: 0.6078 - val_accuracy: 0.7000\n",
      "Epoch 20/30\n",
      "3/3 [==============================] - ETA: 0s - loss: 0.6405 - accuracy: 0.57 - ETA: 0s - loss: 0.6121 - accuracy: 0.64 - 1s 255ms/step - loss: 0.5822 - accuracy: 0.6618 - val_loss: 0.6591 - val_accuracy: 0.6400\n",
      "Epoch 21/30\n",
      "3/3 [==============================] - ETA: 0s - loss: 0.6260 - accuracy: 0.68 - ETA: 0s - loss: 0.5368 - accuracy: 0.70 - 1s 247ms/step - loss: 0.5553 - accuracy: 0.7206 - val_loss: 0.5763 - val_accuracy: 0.7400\n",
      "Epoch 22/30\n",
      "3/3 [==============================] - ETA: 0s - loss: 0.5632 - accuracy: 0.78 - ETA: 0s - loss: 0.5553 - accuracy: 0.77 - 1s 335ms/step - loss: 0.5632 - accuracy: 0.7708 - val_loss: 0.5213 - val_accuracy: 0.8000\n",
      "Epoch 23/30\n",
      "3/3 [==============================] - ETA: 0s - loss: 0.5195 - accuracy: 0.76 - ETA: 0s - loss: 0.4716 - accuracy: 0.77 - 1s 236ms/step - loss: 0.4735 - accuracy: 0.7941 - val_loss: 0.5185 - val_accuracy: 0.7200\n",
      "Epoch 24/30\n",
      "3/3 [==============================] - ETA: 0s - loss: 0.5667 - accuracy: 0.71 - ETA: 0s - loss: 0.5764 - accuracy: 0.70 - 1s 178ms/step - loss: 0.5968 - accuracy: 0.7059 - val_loss: 0.6875 - val_accuracy: 0.6000\n",
      "Epoch 25/30\n",
      "3/3 [==============================] - ETA: 0s - loss: 0.5742 - accuracy: 0.75 - ETA: 0s - loss: 0.5700 - accuracy: 0.71 - 1s 191ms/step - loss: 0.5524 - accuracy: 0.7206 - val_loss: 0.6608 - val_accuracy: 0.6600\n",
      "Epoch 26/30\n",
      "3/3 [==============================] - ETA: 0s - loss: 0.5789 - accuracy: 0.68 - ETA: 0s - loss: 0.5862 - accuracy: 0.67 - 1s 232ms/step - loss: 0.5666 - accuracy: 0.7083 - val_loss: 0.5493 - val_accuracy: 0.6800\n",
      "Epoch 27/30\n",
      "3/3 [==============================] - ETA: 0s - loss: 0.5714 - accuracy: 0.68 - 1s 237ms/step - loss: 0.5659 - accuracy: 0.7279 - val_loss: 0.5321 - val_accuracy: 0.7200\n",
      "Epoch 28/30\n",
      "3/3 [==============================] - ETA: 0s - loss: 0.4129 - accuracy: 0.84 - ETA: 0s - loss: 0.5359 - accuracy: 0.73 - 1s 253ms/step - loss: 0.5983 - accuracy: 0.7279 - val_loss: 0.7016 - val_accuracy: 0.6000\n",
      "Epoch 29/30\n",
      "3/3 [==============================] - ETA: 0s - loss: 0.5749 - accuracy: 0.68 - ETA: 0s - loss: 0.5757 - accuracy: 0.69 - 1s 347ms/step - loss: 0.5451 - accuracy: 0.7344 - val_loss: 0.5437 - val_accuracy: 0.7800\n",
      "Epoch 30/30\n",
      "3/3 [==============================] - ETA: 0s - loss: 0.4704 - accuracy: 0.87 - ETA: 0s - loss: 0.4872 - accuracy: 0.77 - 1s 183ms/step - loss: 0.5241 - accuracy: 0.7500 - val_loss: 0.6862 - val_accuracy: 0.5800\n"
     ]
    }
   ],
   "source": [
    "train_model = model.fit_generator(datagen.flow(train_img,train_label, batch_size=batch_size),\n",
    "                              epochs = epochs, validation_data = (valid_img,valid_label),\n",
    "                              verbose = 1, steps_per_epoch=train_img.shape[0] // batch_size)"
   ]
  },
  {
   "cell_type": "code",
   "execution_count": 32,
   "metadata": {},
   "outputs": [
    {
     "data": {
      "image/png": "[encoded data removed]",
      "text/plain": [
       "<Figure size 432x288 with 1 Axes>"
      ]
     },
     "metadata": {
      "needs_background": "light"
     },
     "output_type": "display_data"
    }
   ],
   "source": [
    "#Evaluating the Model Performance\n",
    "plt.plot(train_model.history['loss'])\n",
    "plt.plot(train_model.history['val_loss'])\n",
    "plt.title('Model Loss')\n",
    "plt.ylabel('Loss')\n",
    "plt.xlabel('Epochs')\n",
    "plt.legend(['train', 'test'])\n",
    "plt.show()"
   ]
  },
  {
   "cell_type": "code",
   "execution_count": 33,
   "metadata": {},
   "outputs": [
    {
     "data": {
      "image/png": "[encoded data removed]",
      "text/plain": [
       "<Figure size 432x288 with 1 Axes>"
      ]
     },
     "metadata": {
      "needs_background": "light"
     },
     "output_type": "display_data"
    }
   ],
   "source": [
    "plt.plot(train_model.history['accuracy'])\n",
    "plt.plot(train_model.history['val_accuracy'])\n",
    "plt.title('Model Accuracy')\n",
    "plt.ylabel('Accuracy')\n",
    "plt.xlabel('Epochs')\n",
    "plt.legend(['train', 'test'])\n",
    "plt.show()"
   ]
  },
  {
   "cell_type": "code",
   "execution_count": 34,
   "metadata": {},
   "outputs": [
    {
     "name": "stdout",
     "output_type": "stream",
     "text": [
      "50/50 [==============================] - ETA:  - 0s 956us/step\n"
     ]
    }
   ],
   "source": [
    "test_loss, test_acc = model.evaluate(test_img, test_label)"
   ]
  },
  {
   "cell_type": "code",
   "execution_count": 35,
   "metadata": {},
   "outputs": [
    {
     "name": "stdout",
     "output_type": "stream",
     "text": [
      "Test loss: 0.7640905070304871\n",
      "Test accuracy: 0.5400000214576721\n"
     ]
    }
   ],
   "source": [
    "print('Test loss:', test_loss)\n",
    "print('Test accuracy:', test_acc)"
   ]
  },
  {
   "cell_type": "code",
   "execution_count": 77,
   "metadata": {},
   "outputs": [],
   "source": [
    "# getting predictions on val set.\n",
    "pred=model.predict(test_img)\n",
    "pred_digits=np.argmax(pred,axis=1)"
   ]
  },
  {
   "cell_type": "code",
   "execution_count": 107,
   "metadata": {},
   "outputs": [],
   "source": [
    "#To test for the given single input\n",
    "im1=cv2.imread('container349.jpg')\n",
    "image = rgb2gray(im1)\n",
    "img = convolve2D(image, kernel, padding=0)\n",
    "img = img.reshape(1,60,60,1)\n",
    "pred=model.predict(img)\n",
    "pred_digits=np.argmax(pred,axis=1)"
   ]
  },
  {
   "cell_type": "code",
   "execution_count": 108,
   "metadata": {},
   "outputs": [
    {
     "name": "stderr",
     "output_type": "stream",
     "text": [
      "E:\\App\\lib\\site-packages\\sklearn\\preprocessing\\label.py:151: DeprecationWarning: The truth value of an empty array is ambiguous. Returning False, but in future this will result in an error. Use `array.size > 0` to check that an array is not empty.\n",
      "  if diff:\n"
     ]
    },
    {
     "data": {
      "text/plain": [
       "\"[['cover']]\""
      ]
     },
     "execution_count": 108,
     "metadata": {},
     "output_type": "execute_result"
    },
    {
     "data": {
      "image/png": "[encoded data removed]",
      "text/plain": [
       "<Figure size 432x288 with 1 Axes>"
      ]
     },
     "metadata": {
      "needs_background": "light"
     },
     "output_type": "display_data"
    }
   ],
   "source": [
    "fig1,ax1=plt.subplots(1,1)\n",
    "ax1.imshow(im1)\n",
    "str(le.inverse_transform([pred_digits]))"
   ]
  },
  {
   "cell_type": "code",
   "execution_count": null,
   "metadata": {},
   "outputs": [],
   "source": []
  }
 ],
 "metadata": {
  "kernelspec": {
   "display_name": "Python 3",
   "language": "python",
   "name": "python3"
  },
  "language_info": {
   "codemirror_mode": {
    "name": "ipython",
    "version": 3
   },
   "file_extension": ".py",
   "mimetype": "text/x-python",
   "name": "python",
   "nbconvert_exporter": "python",
   "pygments_lexer": "ipython3",
   "version": "3.7.0"
  }
 },
 "nbformat": 4,
 "nbformat_minor": 2
}
