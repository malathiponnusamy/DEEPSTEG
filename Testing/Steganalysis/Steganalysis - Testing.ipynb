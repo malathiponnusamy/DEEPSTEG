{
 "cells": [
  {
   "cell_type": "code",
   "execution_count": 1,
   "metadata": {},
   "outputs": [
    {
     "name": "stderr",
     "output_type": "stream",
     "text": [
      "Using TensorFlow backend.\n"
     ]
    }
   ],
   "source": [
    "#configure\n",
    "# sets matplotlib to inline and displays graphs below the corressponding cell.\n",
    "# data visualisation and manipulation\n",
    "import pandas as pd\n",
    "import matplotlib.pyplot as plt\n",
    "from matplotlib import style\n",
    "import seaborn as sns\n",
    "\n",
    "import keras\n",
    "from keras.models import Sequential\n",
    "from keras.callbacks import ModelCheckpoint, LearningRateScheduler, TensorBoard\n",
    "from keras.engine.topology import Network\n",
    "from keras.layers import *\n",
    "from keras.models import Model\n",
    "from keras.preprocessing import image\n",
    "\n",
    "import matplotlib.pyplot as plt\n",
    "import scipy.misc\n",
    "\n",
    "%matplotlib inline  \n",
    "style.use('fivethirtyeight')\n",
    "sns.set(style='whitegrid',color_codes=True)\n",
    "\n",
    "#model selection\n",
    "from sklearn.model_selection import train_test_split\n",
    "from sklearn.model_selection import KFold\n",
    "from sklearn.metrics import accuracy_score,precision_score,recall_score,confusion_matrix,roc_curve,roc_auc_score\n",
    "from sklearn.model_selection import GridSearchCV\n",
    "from sklearn.preprocessing import LabelEncoder\n",
    "\n",
    "#preprocess.\n",
    "from keras.preprocessing.image import ImageDataGenerator\n",
    "\n",
    "#dl libraraies\n",
    "from keras import backend as K\n",
    "from keras.models import Sequential\n",
    "from keras.layers import Dense\n",
    "from keras.optimizers import Adam,SGD,Adagrad,Adadelta,RMSprop\n",
    "from keras.utils import to_categorical\n",
    "\n",
    "# specifically for cnn\n",
    "from keras.layers import Dropout, Flatten,Activation\n",
    "from keras.layers import Conv2D, MaxPooling2D, BatchNormalization\n",
    " \n",
    "import tensorflow as tf\n",
    "import random as rn\n",
    "\n",
    "# specifically for manipulating zipped images and getting numpy arrays of pixel values of images.\n",
    "import cv2                  \n",
    "import numpy as np  \n",
    "from tqdm import tqdm\n",
    "import os                   \n",
    "from random import shuffle  \n",
    "from zipfile import ZipFile\n",
    "from PIL import Image"
   ]
  },
  {
   "cell_type": "code",
   "execution_count": 2,
   "metadata": {},
   "outputs": [],
   "source": [
    "import numpy as np\n",
    "kernel = np.array([[-1/12, 2/12, -2/12, 2/12, -1/12], \n",
    "                   [2/12, -6/12, 8/12, -6/12, -2/12], \n",
    "                   [-2/12, 8/12, -12/12, 8/12, -2/12],\n",
    "                   [2/12, -6/12, 8/12, -6/12, -2/12], \n",
    "                   [-1/12, 2/12, -2/12, 2/12, -1/12]])"
   ]
  },
  {
   "cell_type": "code",
   "execution_count": 3,
   "metadata": {},
   "outputs": [
    {
     "data": {
      "text/plain": [
       "array([[-0.08333333,  0.16666667, -0.16666667,  0.16666667, -0.08333333],\n",
       "       [ 0.16666667, -0.5       ,  0.66666667, -0.5       , -0.16666667],\n",
       "       [-0.16666667,  0.66666667, -1.        ,  0.66666667, -0.16666667],\n",
       "       [ 0.16666667, -0.5       ,  0.66666667, -0.5       , -0.16666667],\n",
       "       [-0.08333333,  0.16666667, -0.16666667,  0.16666667, -0.08333333]])"
      ]
     },
     "execution_count": 3,
     "metadata": {},
     "output_type": "execute_result"
    }
   ],
   "source": [
    "kernel"
   ]
  },
  {
   "cell_type": "code",
   "execution_count": 4,
   "metadata": {},
   "outputs": [],
   "source": [
    "def convolve2D(image, kernel, padding=0, strides=1):\n",
    "    # Cross Correlation\n",
    "    kernel = np.flipud(np.fliplr(kernel))\n",
    "\n",
    "    # Gather Shapes of Kernel + Image + Padding\n",
    "    xKernShape = kernel.shape[0]\n",
    "    yKernShape = kernel.shape[1]\n",
    "    xImgShape = image.shape[0]\n",
    "    yImgShape = image.shape[1]\n",
    "\n",
    "    # Shape of Output Convolution\n",
    "    xOutput = int(((xImgShape - xKernShape + 2 * padding) / strides) + 1)\n",
    "    yOutput = int(((yImgShape - yKernShape + 2 * padding) / strides) + 1)\n",
    "    output = np.zeros((xOutput, yOutput))\n",
    "\n",
    "    # Apply Equal Padding to All Sides\n",
    "    if padding != 0:\n",
    "        imagePadded = np.zeros((image.shape[0] + padding*2, image.shape[1] + padding*2))\n",
    "        imagePadded[int(padding):int(-1 * padding), int(padding):int(-1 * padding)] = image\n",
    "        print(imagePadded)\n",
    "    else:\n",
    "        imagePadded = image\n",
    "\n",
    "    # Iterate through image\n",
    "    for y in range(image.shape[1]):\n",
    "        # Exit Convolution\n",
    "        if y > image.shape[1] - yKernShape:\n",
    "            break\n",
    "        # Only Convolve if y has gone down by the specified Strides\n",
    "        if y % strides == 0:\n",
    "            for x in range(image.shape[0]):\n",
    "                # Go to next row once kernel is out of bounds\n",
    "                if x > image.shape[0] - xKernShape:\n",
    "                    break\n",
    "                try:\n",
    "                    # Only Convolve if x has moved by the specified Strides\n",
    "                    if x % strides == 0:\n",
    "                        output[x, y] = (kernel * imagePadded[x: x + xKernShape, y: y + yKernShape]).sum()\n",
    "                except:\n",
    "                    break\n",
    "\n",
    "    return output"
   ]
  },
  {
   "cell_type": "code",
   "execution_count": 5,
   "metadata": {},
   "outputs": [],
   "source": [
    "train_a_dir='F:/Mine/FINAL PROJECT/DATASET COLLECTIONS/chan_test/train/cover'\n",
    "train_b_dir='F:/Mine/FINAL PROJECT/DATASET COLLECTIONS/chan_test/train/stego'\n",
    "test_a_dir='F:/Mine/FINAL PROJECT/DATASET COLLECTIONS/chan_test/test/cover'\n",
    "test_b_dir='F:/Mine/FINAL PROJECT/DATASET COLLECTIONS/chan_test/test/stego'"
   ]
  },
  {
   "cell_type": "code",
   "execution_count": 6,
   "metadata": {},
   "outputs": [],
   "source": [
    "def assign_label(img,img_class):\n",
    "    return img_class"
   ]
  },
  {
   "cell_type": "code",
   "execution_count": 7,
   "metadata": {},
   "outputs": [],
   "source": [
    "def rgb2gray(rgb):\n",
    "    return np.dot(rgb[...,:3], [0.299, 0.587, 0.114])"
   ]
  },
  {
   "cell_type": "code",
   "execution_count": 54,
   "metadata": {},
   "outputs": [],
   "source": [
    "X = []\n",
    "Z = []\n",
    "X1 = []\n",
    "Z1 = []\n",
    "def make_train_data(img_class,DIR):\n",
    "    for img in tqdm(os.listdir(DIR)):\n",
    "        label=assign_label(img,img_class)\n",
    "        path = os.path.join(DIR,img)\n",
    "        img = cv2.imread(path,cv2.IMREAD_COLOR)\n",
    "        image = rgb2gray(img)\n",
    "        img = convolve2D(image, kernel, padding=0) \n",
    "        #=img = cv2.resize(img, (IMG_SIZE,IMG_SIZE))\n",
    "        \n",
    "        X.append(np.array(img))\n",
    "        Z.append(str(label))\n",
    "def make_test_data(img_class,DIR):\n",
    "    for img in tqdm(os.listdir(DIR)):\n",
    "        label=assign_label(img,img_class)\n",
    "        path = os.path.join(DIR,img)\n",
    "        img = cv2.imread(path,cv2.IMREAD_COLOR)\n",
    "        image = rgb2gray(img)\n",
    "        img = convolve2D(image, kernel, padding=0)\n",
    "        #img = cv2.resize(img, (IMG_SIZE,IMG_SIZE))\n",
    "        \n",
    "        X1.append(np.array(img))\n",
    "        Z1.append(str(label))"
   ]
  },
  {
   "cell_type": "code",
   "execution_count": 55,
   "metadata": {},
   "outputs": [
    {
     "name": "stderr",
     "output_type": "stream",
     "text": [
      "100%|██████████| 133/133 [00:04<00:00, 30.26it/s]\n",
      "100%|██████████| 135/135 [00:05<00:00, 22.84it/s]\n",
      "100%|██████████| 25/25 [00:01<00:00, 26.07it/s]\n",
      "100%|██████████| 25/25 [00:00<00:00, 25.74it/s]\n"
     ]
    }
   ],
   "source": [
    "make_train_data('cover',train_a_dir)\n",
    "make_train_data('stego',train_b_dir)\n",
    "make_test_data('cover',test_a_dir)\n",
    "make_test_data('stego',test_b_dir)"
   ]
  },
  {
   "cell_type": "code",
   "execution_count": 56,
   "metadata": {},
   "outputs": [],
   "source": [
    "from sklearn.preprocessing import LabelEncoder\n",
    "from keras.utils import to_categorical\n",
    "le=LabelEncoder()\n",
    "Y=le.fit_transform(Z)\n",
    "train_label = to_categorical(Y,2)\n",
    "X=np.array(X)\n",
    "train_img = X\n",
    "Y1=le.fit_transform(Z1)\n",
    "test_label = to_categorical(Y1,2)\n",
    "X1=np.array(X1)\n",
    "test_img = X1"
   ]
  },
  {
   "cell_type": "code",
   "execution_count": 57,
   "metadata": {},
   "outputs": [
    {
     "data": {
      "text/plain": [
       "(268, 60, 60)"
      ]
     },
     "execution_count": 57,
     "metadata": {},
     "output_type": "execute_result"
    }
   ],
   "source": [
    "train_img.shape"
   ]
  },
  {
   "cell_type": "code",
   "execution_count": 58,
   "metadata": {},
   "outputs": [],
   "source": [
    "train_img = train_img.reshape(train_img.shape[0],train_img.shape[1],train_img.shape[2],1)"
   ]
  },
  {
   "cell_type": "code",
   "execution_count": 59,
   "metadata": {},
   "outputs": [
    {
     "data": {
      "text/plain": [
       "(268, 60, 60, 1)"
      ]
     },
     "execution_count": 59,
     "metadata": {},
     "output_type": "execute_result"
    }
   ],
   "source": [
    "train_img.shape"
   ]
  },
  {
   "cell_type": "code",
   "execution_count": 60,
   "metadata": {},
   "outputs": [],
   "source": [
    "test_img.shape = (test_img.shape[0],test_img.shape[1],test_img.shape[2],1)"
   ]
  },
  {
   "cell_type": "code",
   "execution_count": 61,
   "metadata": {},
   "outputs": [
    {
     "data": {
      "text/plain": [
       "(50, 60, 60, 1)"
      ]
     },
     "execution_count": 61,
     "metadata": {},
     "output_type": "execute_result"
    }
   ],
   "source": [
    "test_img.shape"
   ]
  },
  {
   "cell_type": "code",
   "execution_count": 62,
   "metadata": {},
   "outputs": [],
   "source": [
    "def gaussian(x):\n",
    "    mean = tf.math.reduce_mean(x)\n",
    "    std = tf.math.reduce_std(x)\n",
    "    return tf.exp(-((x-mean)**2)/(std)**2) "
   ]
  },
  {
   "cell_type": "code",
   "execution_count": 63,
   "metadata": {},
   "outputs": [],
   "source": [
    "model = Sequential()"
   ]
  },
  {
   "cell_type": "code",
   "execution_count": 64,
   "metadata": {},
   "outputs": [],
   "source": [
    "#Second layer - Convolution and pooling\n",
    "model.add(Conv2D(filters = 16, kernel_size = (5,5),strides=(1,1),padding = 'Valid',activation =gaussian, input_shape = (60,60,1)))\n",
    "model.add(AveragePooling2D(pool_size=(3,3),strides=(2,2),padding = 'Same'))"
   ]
  },
  {
   "cell_type": "code",
   "execution_count": 65,
   "metadata": {},
   "outputs": [],
   "source": [
    "#Third layer - Convolution and pooling\n",
    "model.add(Conv2D(filters = 16, kernel_size = (3,3),strides=(1,1),padding = 'Valid',activation =gaussian))\n",
    "model.add(AveragePooling2D(pool_size=(3,3),strides=(2,2),padding = 'Same'))"
   ]
  },
  {
   "cell_type": "code",
   "execution_count": 66,
   "metadata": {},
   "outputs": [],
   "source": [
    "#Fourth layer - Convolution and pooling\n",
    "model.add(Conv2D(filters = 16, kernel_size = (3,3),strides=(1,1),padding = 'Valid',activation =gaussian))\n",
    "model.add(AveragePooling2D(pool_size=(3,3),strides=(2,2),padding = 'Same'))"
   ]
  },
  {
   "cell_type": "code",
   "execution_count": 67,
   "metadata": {},
   "outputs": [],
   "source": [
    "#Fifth layer - Convolution and pooling\n",
    "model.add(Conv2D(filters = 16, kernel_size = (5,5),strides=(1,1),padding = 'Valid',activation =gaussian))\n",
    "model.add(AveragePooling2D(pool_size=(3,3),strides=(2,2),padding = 'Same'))"
   ]
  },
  {
   "cell_type": "code",
   "execution_count": 68,
   "metadata": {},
   "outputs": [],
   "source": [
    "model.add(Flatten())\n",
    "model.add(Dense(32))\n",
    "model.add(Activation('relu'))\n",
    "model.add(Dense(32))\n",
    "model.add(Activation('relu'))\n",
    "model.add(Dense(2, activation = \"softmax\"))"
   ]
  },
  {
   "cell_type": "code",
   "execution_count": 69,
   "metadata": {},
   "outputs": [
    {
     "name": "stdout",
     "output_type": "stream",
     "text": [
      "Model: \"sequential_2\"\n",
      "_________________________________________________________________\n",
      "Layer (type)                 Output Shape              Param #   \n",
      "=================================================================\n",
      "conv2d_5 (Conv2D)            (None, 56, 56, 16)        416       \n",
      "_________________________________________________________________\n",
      "average_pooling2d_5 (Average (None, 28, 28, 16)        0         \n",
      "_________________________________________________________________\n",
      "conv2d_6 (Conv2D)            (None, 26, 26, 16)        2320      \n",
      "_________________________________________________________________\n",
      "average_pooling2d_6 (Average (None, 13, 13, 16)        0         \n",
      "_________________________________________________________________\n",
      "conv2d_7 (Conv2D)            (None, 11, 11, 16)        2320      \n",
      "_________________________________________________________________\n",
      "average_pooling2d_7 (Average (None, 6, 6, 16)          0         \n",
      "_________________________________________________________________\n",
      "conv2d_8 (Conv2D)            (None, 2, 2, 16)          6416      \n",
      "_________________________________________________________________\n",
      "average_pooling2d_8 (Average (None, 1, 1, 16)          0         \n",
      "_________________________________________________________________\n",
      "flatten_2 (Flatten)          (None, 16)                0         \n",
      "_________________________________________________________________\n",
      "dense_4 (Dense)              (None, 32)                544       \n",
      "_________________________________________________________________\n",
      "activation_3 (Activation)    (None, 32)                0         \n",
      "_________________________________________________________________\n",
      "dense_5 (Dense)              (None, 32)                1056      \n",
      "_________________________________________________________________\n",
      "activation_4 (Activation)    (None, 32)                0         \n",
      "_________________________________________________________________\n",
      "dense_6 (Dense)              (None, 2)                 66        \n",
      "=================================================================\n",
      "Total params: 13,138\n",
      "Trainable params: 13,138\n",
      "Non-trainable params: 0\n",
      "_________________________________________________________________\n"
     ]
    }
   ],
   "source": [
    "model.summary()"
   ]
  },
  {
   "cell_type": "code",
   "execution_count": 70,
   "metadata": {},
   "outputs": [
    {
     "data": {
      "text/plain": [
       "(268, 60, 60, 1)"
      ]
     },
     "execution_count": 70,
     "metadata": {},
     "output_type": "execute_result"
    }
   ],
   "source": [
    "train_img.shape"
   ]
  },
  {
   "cell_type": "code",
   "execution_count": 71,
   "metadata": {},
   "outputs": [],
   "source": [
    "batch_size=64\n",
    "epochs=30\n",
    "\n",
    "from keras.callbacks import ReduceLROnPlateau\n",
    "red_lr= ReduceLROnPlateau(monitor='val_acc',patience=3,verbose=1,factor=0.1)"
   ]
  },
  {
   "cell_type": "code",
   "execution_count": 72,
   "metadata": {},
   "outputs": [],
   "source": [
    "#Data Augmentation to prevent Overfitting\n",
    "datagen = ImageDataGenerator(\n",
    "        featurewise_center=False,  # set input mean to 0 over the dataset\n",
    "        samplewise_center=False,  # set each sample mean to 0\n",
    "        featurewise_std_normalization=False,  # divide inputs by std of the dataset\n",
    "        samplewise_std_normalization=False,  # divide each input by its std\n",
    "        zca_whitening=False,  # apply ZCA whitening\n",
    "        rotation_range=10,  # randomly rotate images in the range (degrees, 0 to 180)\n",
    "        zoom_range = 0.1, # Randomly zoom image \n",
    "        width_shift_range=0.2,  # randomly shift images horizontally (fraction of total width)\n",
    "        height_shift_range=0.2,  # randomly shift images vertically (fraction of total height)\n",
    "        horizontal_flip=True,  # randomly flip images\n",
    "        vertical_flip=False)  # randomly flip images\n",
    "\n",
    "\n",
    "datagen.fit(train_img)"
   ]
  },
  {
   "cell_type": "code",
   "execution_count": 73,
   "metadata": {},
   "outputs": [],
   "source": [
    "#Compiling the Keras Model & Summary\n",
    "model.compile(optimizer=Adam(lr=0.001),loss='categorical_crossentropy',metrics=['accuracy'])"
   ]
  },
  {
   "cell_type": "code",
   "execution_count": 74,
   "metadata": {},
   "outputs": [
    {
     "name": "stdout",
     "output_type": "stream",
     "text": [
      "Epoch 1/30\n",
      "4/4 [==============================] - ETA: 6s - loss: 0.7458 - accuracy: 0.56 - ETA: 2s - loss: 0.7126 - accuracy: 0.56 - ETA: 0s - loss: 0.7070 - accuracy: 0.54 - 3s 785ms/step - loss: 0.7017 - accuracy: 0.5441 - val_loss: 0.6877 - val_accuracy: 0.5400\n",
      "Epoch 2/30\n",
      "4/4 [==============================] - ETA: 0s - loss: 0.6713 - accuracy: 0.57 - ETA: 0s - loss: 0.6764 - accuracy: 0.55 - ETA: 0s - loss: 0.6852 - accuracy: 0.52 - 1s 219ms/step - loss: 0.7007 - accuracy: 0.5098 - val_loss: 0.6955 - val_accuracy: 0.4800\n",
      "Epoch 3/30\n",
      "4/4 [==============================] - ETA: 0s - loss: 0.6946 - accuracy: 0.45 - ETA: 0s - loss: 0.6964 - accuracy: 0.46 - ETA: 0s - loss: 0.6999 - accuracy: 0.46 - 1s 296ms/step - loss: 0.7008 - accuracy: 0.4688 - val_loss: 0.6993 - val_accuracy: 0.5000\n",
      "Epoch 4/30\n",
      "4/4 [==============================] - ETA: 0s - loss: 0.6967 - accuracy: 0.51 - ETA: 0s - loss: 0.7035 - accuracy: 0.48 - ETA: 0s - loss: 0.6964 - accuracy: 0.55 - 1s 251ms/step - loss: 0.6938 - accuracy: 0.5490 - val_loss: 0.6920 - val_accuracy: 0.4800\n",
      "Epoch 5/30\n",
      "4/4 [==============================] - ETA: 0s - loss: 0.6795 - accuracy: 0.60 - ETA: 0s - loss: 0.6913 - accuracy: 0.50 - ETA: 0s - loss: 0.6878 - accuracy: 0.52 - 1s 224ms/step - loss: 0.6839 - accuracy: 0.5686 - val_loss: 0.6914 - val_accuracy: 0.5200\n",
      "Epoch 6/30\n",
      "4/4 [==============================] - ETA: 0s - loss: 0.6908 - accuracy: 0.48 - ETA: 0s - loss: 0.6839 - accuracy: 0.53 - ETA: 0s - loss: 0.6783 - accuracy: 0.58 - 1s 299ms/step - loss: 0.6792 - accuracy: 0.5781 - val_loss: 0.6891 - val_accuracy: 0.5400\n",
      "Epoch 7/30\n",
      "4/4 [==============================] - ETA: 0s - loss: 0.6607 - accuracy: 0.66 - ETA: 0s - loss: 0.6691 - accuracy: 0.60 - ETA: 0s - loss: 0.6728 - accuracy: 0.60 - 1s 200ms/step - loss: 0.6797 - accuracy: 0.5461 - val_loss: 0.6954 - val_accuracy: 0.5000\n",
      "Epoch 8/30\n",
      "4/4 [==============================] - ETA: 0s - loss: 0.6702 - accuracy: 0.54 - ETA: 0s - loss: 0.6722 - accuracy: 0.56 - ETA: 0s - loss: 0.6725 - accuracy: 0.55 - 1s 284ms/step - loss: 0.6752 - accuracy: 0.5430 - val_loss: 0.6896 - val_accuracy: 0.5400\n",
      "Epoch 9/30\n",
      "4/4 [==============================] - ETA: 0s - loss: 0.6353 - accuracy: 0.83 - ETA: 0s - loss: 0.6557 - accuracy: 0.63 - ETA: 0s - loss: 0.6661 - accuracy: 0.60 - 1s 226ms/step - loss: 0.6725 - accuracy: 0.5833 - val_loss: 0.6964 - val_accuracy: 0.5200\n",
      "Epoch 10/30\n",
      "4/4 [==============================] - ETA: 0s - loss: 0.7431 - accuracy: 0.41 - ETA: 0s - loss: 0.7061 - accuracy: 0.56 - ETA: 0s - loss: 0.6883 - accuracy: 0.60 - 1s 244ms/step - loss: 0.6803 - accuracy: 0.5882 - val_loss: 0.6887 - val_accuracy: 0.5600\n",
      "Epoch 11/30\n",
      "4/4 [==============================] - ETA: 0s - loss: 0.6607 - accuracy: 0.65 - ETA: 0s - loss: 0.6686 - accuracy: 0.63 - ETA: 0s - loss: 0.6746 - accuracy: 0.62 - 1s 247ms/step - loss: 0.6704 - accuracy: 0.6078 - val_loss: 0.6878 - val_accuracy: 0.5600\n",
      "Epoch 12/30\n",
      "4/4 [==============================] - ETA: 0s - loss: 0.6333 - accuracy: 0.68 - ETA: 0s - loss: 0.6352 - accuracy: 0.69 - ETA: 0s - loss: 0.6354 - accuracy: 0.68 - 1s 286ms/step - loss: 0.6461 - accuracy: 0.6523 - val_loss: 0.6812 - val_accuracy: 0.5800\n",
      "Epoch 13/30\n",
      "4/4 [==============================] - ETA: 0s - loss: 0.6183 - accuracy: 0.66 - ETA: 0s - loss: 0.6475 - accuracy: 0.59 - ETA: 0s - loss: 0.6583 - accuracy: 0.57 - 1s 187ms/step - loss: 0.6605 - accuracy: 0.5724 - val_loss: 0.6774 - val_accuracy: 0.5600\n",
      "Epoch 14/30\n",
      "4/4 [==============================] - ETA: 0s - loss: 0.6410 - accuracy: 0.65 - ETA: 0s - loss: 0.6476 - accuracy: 0.64 - ETA: 0s - loss: 0.6445 - accuracy: 0.64 - 1s 300ms/step - loss: 0.6469 - accuracy: 0.6445 - val_loss: 0.6894 - val_accuracy: 0.5600\n",
      "Epoch 15/30\n",
      "4/4 [==============================] - ETA: 0s - loss: 0.6107 - accuracy: 0.68 - ETA: 0s - loss: 0.6254 - accuracy: 0.65 - ETA: 0s - loss: 0.6531 - accuracy: 0.63 - 1s 246ms/step - loss: 0.6443 - accuracy: 0.6520 - val_loss: 0.6797 - val_accuracy: 0.6400\n",
      "Epoch 16/30\n",
      "4/4 [==============================] - ETA: 0s - loss: 0.6329 - accuracy: 0.65 - ETA: 0s - loss: 0.6184 - accuracy: 0.67 - ETA: 0s - loss: 0.6487 - accuracy: 0.63 - 1s 228ms/step - loss: 0.6529 - accuracy: 0.6324 - val_loss: 0.6702 - val_accuracy: 0.6400\n",
      "Epoch 17/30\n",
      "4/4 [==============================] - ETA: 0s - loss: 0.6045 - accuracy: 0.67 - ETA: 0s - loss: 0.6251 - accuracy: 0.66 - ETA: 0s - loss: 0.5926 - accuracy: 0.68 - 1s 237ms/step - loss: 0.6071 - accuracy: 0.6569 - val_loss: 0.7050 - val_accuracy: 0.5400\n",
      "Epoch 18/30\n",
      "4/4 [==============================] - ETA: 0s - loss: 0.7102 - accuracy: 0.51 - ETA: 0s - loss: 0.6871 - accuracy: 0.56 - ETA: 0s - loss: 0.6674 - accuracy: 0.59 - 1s 276ms/step - loss: 0.6557 - accuracy: 0.6211 - val_loss: 0.6677 - val_accuracy: 0.6600\n",
      "Epoch 19/30\n",
      "4/4 [==============================] - ETA: 0s - loss: 0.6690 - accuracy: 0.57 - ETA: 0s - loss: 0.6324 - accuracy: 0.67 - ETA: 0s - loss: 0.6439 - accuracy: 0.67 - 1s 200ms/step - loss: 0.6389 - accuracy: 0.6776 - val_loss: 0.6703 - val_accuracy: 0.6400\n",
      "Epoch 20/30\n",
      "4/4 [==============================] - ETA: 0s - loss: 0.6522 - accuracy: 0.68 - ETA: 0s - loss: 0.6478 - accuracy: 0.65 - ETA: 0s - loss: 0.6305 - accuracy: 0.67 - 1s 269ms/step - loss: 0.6220 - accuracy: 0.6797 - val_loss: 0.6710 - val_accuracy: 0.6000\n",
      "Epoch 21/30\n",
      "4/4 [==============================] - ETA: 0s - loss: 0.5974 - accuracy: 0.68 - ETA: 0s - loss: 0.6056 - accuracy: 0.67 - 1s 209ms/step - loss: 0.6565 - accuracy: 0.6569 - val_loss: 0.6648 - val_accuracy: 0.6200\n",
      "Epoch 22/30\n",
      "4/4 [==============================] - ETA: 0s - loss: 0.6557 - accuracy: 0.60 - ETA: 0s - loss: 0.6348 - accuracy: 0.63 - ETA: 0s - loss: 0.6390 - accuracy: 0.63 - 1s 279ms/step - loss: 0.6361 - accuracy: 0.6484 - val_loss: 0.6531 - val_accuracy: 0.6000\n",
      "Epoch 23/30\n",
      "4/4 [==============================] - ETA: 0s - loss: 0.6038 - accuracy: 0.75 - ETA: 0s - loss: 0.6178 - accuracy: 0.68 - ETA: 0s - loss: 0.6171 - accuracy: 0.68 - 1s 221ms/step - loss: 0.6155 - accuracy: 0.6912 - val_loss: 0.6420 - val_accuracy: 0.6800\n",
      "Epoch 24/30\n",
      "4/4 [==============================] - ETA: 0s - loss: 0.5628 - accuracy: 0.75 - ETA: 0s - loss: 0.5859 - accuracy: 0.72 - ETA: 0s - loss: 0.6144 - accuracy: 0.65 - 1s 222ms/step - loss: 0.6281 - accuracy: 0.6275 - val_loss: 0.6463 - val_accuracy: 0.6200\n",
      "Epoch 25/30\n",
      "4/4 [==============================] - ETA: 0s - loss: 0.5585 - accuracy: 0.78 - ETA: 0s - loss: 0.5813 - accuracy: 0.75 - ETA: 0s - loss: 0.5415 - accuracy: 0.75 - 1s 243ms/step - loss: 0.5527 - accuracy: 0.7500 - val_loss: 0.6280 - val_accuracy: 0.6600\n",
      "Epoch 26/30\n",
      "4/4 [==============================] - ETA: 0s - loss: 0.5859 - accuracy: 0.71 - ETA: 0s - loss: 0.6046 - accuracy: 0.68 - ETA: 0s - loss: 0.6084 - accuracy: 0.66 - 1s 239ms/step - loss: 0.6084 - accuracy: 0.6667 - val_loss: 0.6353 - val_accuracy: 0.6600\n",
      "Epoch 27/30\n",
      "4/4 [==============================] - ETA: 0s - loss: 0.5908 - accuracy: 0.64 - ETA: 0s - loss: 0.6202 - accuracy: 0.62 - ETA: 0s - loss: 0.6129 - accuracy: 0.65 - 1s 300ms/step - loss: 0.5993 - accuracy: 0.6758 - val_loss: 0.6076 - val_accuracy: 0.7000\n",
      "Epoch 28/30\n",
      "4/4 [==============================] - ETA: 0s - loss: 0.4739 - accuracy: 0.91 - ETA: 0s - loss: 0.5049 - accuracy: 0.76 - ETA: 0s - loss: 0.5395 - accuracy: 0.72 - 1s 162ms/step - loss: 0.5327 - accuracy: 0.7303 - val_loss: 0.6172 - val_accuracy: 0.7000\n",
      "Epoch 29/30\n",
      "4/4 [==============================] - ETA: 0s - loss: 0.5192 - accuracy: 0.79 - ETA: 0s - loss: 0.5554 - accuracy: 0.73 - ETA: 0s - loss: 0.5555 - accuracy: 0.72 - 1s 303ms/step - loss: 0.5656 - accuracy: 0.7266 - val_loss: 0.6450 - val_accuracy: 0.6000\n",
      "Epoch 30/30\n",
      "4/4 [==============================] - ETA: 0s - loss: 0.3912 - accuracy: 0.91 - ETA: 0s - loss: 0.5130 - accuracy: 0.71 - ETA: 0s - loss: 0.5083 - accuracy: 0.73 - 1s 256ms/step - loss: 0.5542 - accuracy: 0.7010 - val_loss: 0.6144 - val_accuracy: 0.7000\n"
     ]
    }
   ],
   "source": [
    "train_model = model.fit_generator(datagen.flow(train_img,train_label, batch_size=batch_size),\n",
    "                              epochs = epochs, validation_data = (test_img,test_label),\n",
    "                              verbose = 1, steps_per_epoch=train_img.shape[0] // batch_size)"
   ]
  },
  {
   "cell_type": "code",
   "execution_count": 75,
   "metadata": {},
   "outputs": [
    {
     "data": {
      "image/png": "[encoded data removed]",
      "text/plain": [
       "<Figure size 432x288 with 1 Axes>"
      ]
     },
     "metadata": {
      "needs_background": "light"
     },
     "output_type": "display_data"
    }
   ],
   "source": [
    "#Evaluating the Model Performance\n",
    "plt.plot(train_model.history['loss'])\n",
    "plt.plot(train_model.history['val_loss'])\n",
    "plt.title('Model Loss')\n",
    "plt.ylabel('Loss')\n",
    "plt.xlabel('Epochs')\n",
    "plt.legend(['train', 'test'])\n",
    "plt.show()"
   ]
  },
  {
   "cell_type": "code",
   "execution_count": 76,
   "metadata": {},
   "outputs": [
    {
     "data": {
      "image/png": "[encoded data removed]",
      "text/plain": [
       "<Figure size 432x288 with 1 Axes>"
      ]
     },
     "metadata": {
      "needs_background": "light"
     },
     "output_type": "display_data"
    }
   ],
   "source": [
    "plt.plot(train_model.history['accuracy'])\n",
    "plt.plot(train_model.history['val_accuracy'])\n",
    "plt.title('Model Accuracy')\n",
    "plt.ylabel('Accuracy')\n",
    "plt.xlabel('Epochs')\n",
    "plt.legend(['train', 'test'])\n",
    "plt.show()"
   ]
  },
  {
   "cell_type": "code",
   "execution_count": 77,
   "metadata": {},
   "outputs": [],
   "source": [
    "# getting predictions on val set.\n",
    "pred=model.predict(test_img)\n",
    "pred_digits=np.argmax(pred,axis=1)"
   ]
  },
  {
   "cell_type": "code",
   "execution_count": 107,
   "metadata": {},
   "outputs": [],
   "source": [
    "#To test for the given single input\n",
    "im1=cv2.imread('container349.jpg')\n",
    "image = rgb2gray(im1)\n",
    "img = convolve2D(image, kernel, padding=0)\n",
    "img = img.reshape(1,60,60,1)\n",
    "pred=model.predict(img)\n",
    "pred_digits=np.argmax(pred,axis=1)"
   ]
  },
  {
   "cell_type": "code",
   "execution_count": 108,
   "metadata": {},
   "outputs": [
    {
     "name": "stderr",
     "output_type": "stream",
     "text": [
      "E:\\App\\lib\\site-packages\\sklearn\\preprocessing\\label.py:151: DeprecationWarning: The truth value of an empty array is ambiguous. Returning False, but in future this will result in an error. Use `array.size > 0` to check that an array is not empty.\n",
      "  if diff:\n"
     ]
    },
    {
     "data": {
      "text/plain": [
       "\"[['cover']]\""
      ]
     },
     "execution_count": 108,
     "metadata": {},
     "output_type": "execute_result"
    },
    {
     "data": {
      "image/png": "[encoded data removed]",
      "text/plain": [
       "<Figure size 432x288 with 1 Axes>"
      ]
     },
     "metadata": {
      "needs_background": "light"
     },
     "output_type": "display_data"
    }
   ],
   "source": [
    "fig1,ax1=plt.subplots(1,1)\n",
    "ax1.imshow(im1)\n",
    "str(le.inverse_transform([pred_digits]))"
   ]
  },
  {
   "cell_type": "code",
   "execution_count": null,
   "metadata": {},
   "outputs": [],
   "source": []
  }
 ],
 "metadata": {
  "kernelspec": {
   "display_name": "Python 3",
   "language": "python",
   "name": "python3"
  },
  "language_info": {
   "codemirror_mode": {
    "name": "ipython",
    "version": 3
   },
   "file_extension": ".py",
   "mimetype": "text/x-python",
   "name": "python",
   "nbconvert_exporter": "python",
   "pygments_lexer": "ipython3",
   "version": "3.7.0"
  }
 },
 "nbformat": 4,
 "nbformat_minor": 2
}
